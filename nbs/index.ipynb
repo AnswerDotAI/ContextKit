{
 "cells": [
  {
   "cell_type": "markdown",
   "id": "a8f06e9b",
   "metadata": {},
   "source": [
    "# contextkit\n",
    "\n",
    "> Reusable contexts for LLMs"
   ]
  },
  {
   "cell_type": "markdown",
   "id": "fc208fe0",
   "metadata": {},
   "source": [
    "## Usage"
   ]
  },
  {
   "cell_type": "markdown",
   "id": "fed7fbb7",
   "metadata": {},
   "source": [
    "### Installation"
   ]
  },
  {
   "cell_type": "markdown",
   "id": "2b57c681",
   "metadata": {},
   "source": [
    "```\n",
    "pip install contextkit\n",
    "```"
   ]
  },
  {
   "cell_type": "markdown",
   "id": "b438b7a8",
   "metadata": {},
   "source": [
    "### Using"
   ]
  },
  {
   "cell_type": "markdown",
   "id": "aba618f9",
   "metadata": {},
   "source": [
    "To get context from an LLM, use one of the helper functions to pull it.\n",
    "\n",
    "If a function pulls a single context snippit it will return the text, if it return multiple it will return a dictionary."
   ]
  },
  {
   "cell_type": "code",
   "execution_count": null,
   "id": "843c67f2",
   "metadata": {},
   "outputs": [],
   "source": [
    "import contextkit.read as rd"
   ]
  },
  {
   "cell_type": "markdown",
   "id": "3c187f5f",
   "metadata": {},
   "source": [
    "#### Read_X Functions"
   ]
  },
  {
   "cell_type": "markdown",
   "id": "2fd5e2a3",
   "metadata": {},
   "source": [
    "Each `read_x` function is designed to work with a single argument, which is the location of the resource.  This typically means a URL or a file path."
   ]
  },
  {
   "cell_type": "code",
   "execution_count": null,
   "id": "1dda6d53",
   "metadata": {},
   "outputs": [
    {
     "data": {
      "text/plain": [
       "'[ Answer.AI ](./index.html)\\n\\n  * [ __ ](./index.xml)\\n  * [ __ ](https://twitter.com/answerdotai)\\n\\n# Answer.AI - Practical AI R&D\\n\\n##### Categories\\n\\nAll (40)\\n\\nai (22)\\n\\ncoding (6)\\n\\ncompany (2)\\n\\ndesign ('"
      ]
     },
     "execution_count": null,
     "metadata": {},
     "output_type": "execute_result"
    }
   ],
   "source": [
    "rd.read_url('https://www.answer.ai/')[:200]"
   ]
  },
  {
   "cell_type": "markdown",
   "id": "ccd7803d",
   "metadata": {},
   "source": [
    "Other arguments are always optional, but can be useful at times.  For example, the `heavy` argument in `read_url` allows you to do a heavy scrape with a contactless browser using `playwrightnb`.  "
   ]
  },
  {
   "cell_type": "code",
   "execution_count": null,
   "id": "3f1583a1",
   "metadata": {},
   "outputs": [
    {
     "data": {
      "text/plain": [
       "'Answer.AI\\n\\n  * __\\n  * __\\n\\n# Answer.AI - Practical AI R&D\\n\\n##### Categories\\n\\nAll (33)\\n\\nai (20)\\n\\ncoding (5)\\n\\ncompany (2)\\n\\ncourses (1)\\n\\neducation (1)\\n\\ninterview (1)\\n\\nopen-source (14)\\n\\npolicy (4)\\n\\nproduct'"
      ]
     },
     "execution_count": null,
     "metadata": {},
     "output_type": "execute_result"
    }
   ],
   "source": [
    "rd.read_url('https://www.answer.ai/',heavy=True)[:200]"
   ]
  },
  {
   "cell_type": "markdown",
   "id": "763fe3ba",
   "metadata": {},
   "source": [
    "Many have been creates so far, such as"
   ]
  },
  {
   "cell_type": "code",
   "execution_count": null,
   "id": "e6b631e1",
   "metadata": {},
   "outputs": [
    {
     "data": {
      "text/plain": [
       "['read_dir',\n",
       " 'read_file',\n",
       " 'read_gdoc',\n",
       " 'read_gh_file',\n",
       " 'read_gh_repo',\n",
       " 'read_gist',\n",
       " 'read_git_path',\n",
       " 'read_google_sheet',\n",
       " 'read_html',\n",
       " 'read_pdf',\n",
       " 'read_url',\n",
       " 'read_yt_transcript']"
      ]
     },
     "execution_count": null,
     "metadata": {},
     "output_type": "execute_result"
    }
   ],
   "source": [
    "[o for o in dir(rd) if o.startswith('read_')]"
   ]
  }
 ],
 "metadata": {},
 "nbformat": 4,
 "nbformat_minor": 5
}
