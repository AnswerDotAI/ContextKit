{
 "cells": [
  {
   "cell_type": "markdown",
   "id": "a95d05d1",
   "metadata": {},
   "source": [
    "# Read\n",
    "\n",
    "> Read X for llm context"
   ]
  },
  {
   "cell_type": "code",
   "execution_count": null,
   "id": "8dbe1eaa",
   "metadata": {},
   "outputs": [],
   "source": [
    "#| default_exp read"
   ]
  },
  {
   "cell_type": "code",
   "execution_count": null,
   "id": "7b15582f",
   "metadata": {},
   "outputs": [],
   "source": [
    "#| hide\n",
    "from nbdev.showdoc import *"
   ]
  },
  {
   "cell_type": "markdown",
   "id": "6256d9df",
   "metadata": {},
   "source": [
    "## Goals"
   ]
  },
  {
   "cell_type": "markdown",
   "id": "9ec56cac",
   "metadata": {},
   "source": [
    "Todo ideas:\n",
    "- [X] read_url\n",
    "- [X] read_gist\n",
    "- [X] read_gh_file\n",
    "- [ ] read_ghurl\n",
    "- [X] read_file\n",
    "- [X] read_dir\n",
    "- [X] read_pdf\n",
    "- [ ] read_msword\n",
    "- [ ] read_gdoc\n",
    "- [ ] read_yt\n",
    "- [X] read_yt_transcript\n",
    "- [X] read_gsheet"
   ]
  },
  {
   "cell_type": "markdown",
   "id": "d670b6b1",
   "metadata": {},
   "source": [
    "One possible interface:\n",
    "\n",
    "```\n",
    "read_thing(s)\n",
    "```\n",
    "\n",
    "Where the function would be smart enough to look at s and determine if\n",
    "it is:\n",
    "\n",
    "- a Github URL\n",
    "- a YT URL\n",
    "- a Google Doc URL\n",
    "- a \"plain\" URL (not identified as more specific)\n",
    "- a path to a file on disk\n",
    "- etc...\n",
    "\n",
    "But this is a convenience interface.\n",
    "\n",
    "library should also expose the separate dedicated `read` functions. \n",
    "\n",
    "ideally, these should also \"just work\" when simply given one positional argument, with further arguments being optional keyword args to request more specific behavior when necessary (maybe, output format besides a string).\n",
    "\n",
    "They should also return the same thing, where that thing is whatever\n",
    "is easiest to spit into context. str? dict?\n",
    "\n",
    "To start for now let us suppose:\n",
    "- each read_ function MUST work with one positional arg and MUST return a string.\n",
    "- later: optional args, maybe controlling other output formats, such a dictionary, a Claude-optimized bit of XML, etc..\n",
    "\n"
   ]
  },
  {
   "cell_type": "markdown",
   "id": "2ee927d0",
   "metadata": {},
   "source": [
    "requirements.txt\n",
    "\n",
    "```\n",
    "PyPDF2\n",
    "httpx\n",
    "youtube_transcript_api\n",
    "pytube\n",
    "```"
   ]
  },
  {
   "cell_type": "markdown",
   "id": "eeb01b1a",
   "metadata": {},
   "source": [
    "## Imports"
   ]
  },
  {
   "cell_type": "code",
   "execution_count": null,
   "id": "f0e50fa0",
   "metadata": {},
   "outputs": [],
   "source": [
    "#| export\n",
    "import httpx \n",
    "import re\n",
    "import html2text\n",
    "import os\n",
    "import requests\n",
    "from fastcore.all import delegates\n",
    "import glob\n",
    "import fnmatch\n",
    "import mimetypes\n",
    "from PyPDF2 import PdfReader\n",
    "import string\n",
    "from toolslm.download import html2md, read_html"
   ]
  },
  {
   "cell_type": "code",
   "execution_count": null,
   "id": "9f1ebfb6",
   "metadata": {},
   "outputs": [],
   "source": [
    "from aimagic import create_magic,models\n",
    "create_magic(models[1])"
   ]
  },
  {
   "cell_type": "markdown",
   "id": "e1428e30",
   "metadata": {},
   "source": [
    "## Defining read_ functions"
   ]
  },
  {
   "cell_type": "markdown",
   "id": "0911d6a5",
   "metadata": {},
   "source": [
    "### URL"
   ]
  },
  {
   "cell_type": "code",
   "execution_count": null,
   "id": "34bbd7c5",
   "metadata": {},
   "outputs": [],
   "source": [
    "#| export\n",
    "@delegates(to=read_html)\n",
    "def read_url(url,**kwargs): \n",
    "    return html2md(read_html(url,**kwargs))"
   ]
  },
  {
   "cell_type": "code",
   "execution_count": null,
   "id": "ef1f068c",
   "metadata": {},
   "outputs": [
    {
     "data": {
      "text/plain": [
       "'* Home * Learn * __ * __ __ 1\\\\. Get Started * Get Started * Tutorials __ * FastHTML By Example * Web Devs Quickstart * JS App Walkthrough * Explanations __ * **FT** Components * FAQ * MiniDataAPI Spec'"
      ]
     },
     "execution_count": null,
     "metadata": {},
     "output_type": "execute_result"
    }
   ],
   "source": [
    "read_url('https://docs.fastht.ml/')[:200]"
   ]
  },
  {
   "cell_type": "markdown",
   "id": "8f41a6a8",
   "metadata": {},
   "source": [
    "### Github"
   ]
  },
  {
   "cell_type": "markdown",
   "id": "208dad18",
   "metadata": {},
   "source": [
    "#### Gist"
   ]
  },
  {
   "cell_type": "code",
   "execution_count": null,
   "id": "9308f909",
   "metadata": {},
   "outputs": [],
   "source": [
    "#| export\n",
    "def read_gist(url):\n",
    "    \"Returns raw gist content, or None\"\n",
    "    import re\n",
    "    pattern = r'https://gist\\.github\\.com/([^/]+)/([^/]+)'\n",
    "    match = re.match(pattern, url)\n",
    "    if match:\n",
    "        user, gist_id = match.groups()\n",
    "        raw_url = f'https://gist.githubusercontent.com/{user}/{gist_id}/raw'\n",
    "        return httpx.get(raw_url).text\n",
    "    else:\n",
    "        return None"
   ]
  },
  {
   "cell_type": "code",
   "execution_count": null,
   "id": "f8faab09",
   "metadata": {},
   "outputs": [
    {
     "data": {
      "text/plain": [
       "'#!/usr/bin/env bash\\n[ \"${BASH_SOURCE[0]}\" = \"$0\" ] && { echo \"source me don\\'t run me.\"; exit 1; }\\n\\nshowurl() {\\n    # Under iTerm2, shows a URL as a clickable link\\n    echo -e \"\\\\033]8;;${1}\\\\a${1}\\\\033]8'"
      ]
     },
     "execution_count": null,
     "metadata": {},
     "output_type": "execute_result"
    }
   ],
   "source": [
    "sample_gist_url = \"https://gist.github.com/algal/a490024ad088de1b857531c83abef0a0\"\n",
    "read_gist(\"https://gist.github.com/algal/a490024ad088de1b857531c83abef0a0\")[:200]"
   ]
  },
  {
   "cell_type": "markdown",
   "id": "fc6a81cd",
   "metadata": {},
   "source": [
    "#### URL"
   ]
  },
  {
   "cell_type": "code",
   "execution_count": null,
   "id": "b6058f6f",
   "metadata": {},
   "outputs": [],
   "source": [
    "%%aip 0\n",
    "Please generate regex code to transform gh_file_url-like URLs to gh_raw_file_url-like URLs"
   ]
  },
  {
   "cell_type": "code",
   "execution_count": null,
   "id": "e6f53c92",
   "metadata": {},
   "outputs": [],
   "source": [
    "def github_url_to_raw(url):\n",
    "    pattern = r'https://github\\.com/([^/]+)/([^/]+)/blob/([^/]+)/(.+)'\n",
    "    replacement = r'https://raw.githubusercontent.com/\\1/\\2/refs/heads/\\3/\\4'\n",
    "    return re.sub(pattern, replacement, url)"
   ]
  },
  {
   "cell_type": "code",
   "execution_count": null,
   "id": "dc15c66c",
   "metadata": {},
   "outputs": [
    {
     "data": {
      "text/plain": [
       "'https://raw.githubusercontent.com/hamelsmu/getrich-fasthtml/refs/heads/main/.gitignore'"
      ]
     },
     "execution_count": null,
     "metadata": {},
     "output_type": "execute_result"
    }
   ],
   "source": [
    "github_url_to_raw(\"https://github.com/hamelsmu/getrich-fasthtml/blob/main/.gitignore\")"
   ]
  },
  {
   "cell_type": "markdown",
   "id": "903ffa92",
   "metadata": {},
   "source": [
    "#### File"
   ]
  },
  {
   "cell_type": "code",
   "execution_count": null,
   "id": "746101ae",
   "metadata": {},
   "outputs": [],
   "source": [
    "#| export\n",
    "def read_gh_file(url):\n",
    "    import httpx\n",
    "    import re\n",
    "    pattern = r'https://github\\.com/([^/]+)/([^/]+)/blob/([^/]+)/(.+)'\n",
    "    replacement = r'https://raw.githubusercontent.com/\\1/\\2/refs/heads/\\3/\\4'\n",
    "    raw_url = re.sub(pattern, replacement, url)\n",
    "    return httpx.get(raw_url).text"
   ]
  },
  {
   "cell_type": "code",
   "execution_count": null,
   "id": "59c7cb64",
   "metadata": {},
   "outputs": [
    {
     "data": {
      "text/plain": [
       "'__pycache__\\n*.\\n'"
      ]
     },
     "execution_count": null,
     "metadata": {},
     "output_type": "execute_result"
    }
   ],
   "source": [
    "read_gh_file(\"https://github.com/hamelsmu/getrich-fasthtml/blob/main/.gitignore\")[:200]"
   ]
  },
  {
   "cell_type": "markdown",
   "id": "2ebc1f54",
   "metadata": {},
   "source": [
    "### Local Files"
   ]
  },
  {
   "cell_type": "markdown",
   "id": "e9b3b8f9",
   "metadata": {},
   "source": [
    "####  Files"
   ]
  },
  {
   "cell_type": "code",
   "execution_count": null,
   "id": "db142751",
   "metadata": {},
   "outputs": [],
   "source": [
    "#| export\n",
    "def read_file(path):\n",
    "    return open(path,'r').read()"
   ]
  },
  {
   "cell_type": "code",
   "execution_count": null,
   "id": "9e924a4f",
   "metadata": {},
   "outputs": [],
   "source": [
    "%%aip 0\n",
    "Generate Python code which reads all files below a certain path,\n",
    "concatenating their contents into a single string, adding within\n",
    "the string delimiter lines which communicate the paths of the\n",
    "individual files. Use glob patterns, please."
   ]
  },
  {
   "cell_type": "code",
   "execution_count": null,
   "id": "a8991a53",
   "metadata": {},
   "outputs": [],
   "source": [
    "%%aip 0\n",
    "Observe the TODO comments in the code above. Please generate a new\n",
    "function which fills those TODOs, using only stdlib modules."
   ]
  },
  {
   "cell_type": "code",
   "execution_count": null,
   "id": "fcdb0366",
   "metadata": {},
   "outputs": [],
   "source": [
    "#|export\n",
    "def is_unicode(filepath, sample_size=1024):\n",
    "    try:\n",
    "        with open(filepath, 'r') as file:\n",
    "            sample = file.read(sample_size)\n",
    "        return True\n",
    "    except UnicodeDecodeError:\n",
    "        return False"
   ]
  },
  {
   "cell_type": "code",
   "execution_count": null,
   "id": "5da0ad57",
   "metadata": {},
   "outputs": [],
   "source": [
    "assert is_unicode('_quarto.yml')"
   ]
  },
  {
   "cell_type": "markdown",
   "id": "0b4d45a2",
   "metadata": {},
   "source": [
    "#### Directory"
   ]
  },
  {
   "cell_type": "code",
   "execution_count": null,
   "id": "81f30d9a",
   "metadata": {},
   "outputs": [],
   "source": [
    "#| export\n",
    "def read_dir(path, \n",
    "             exclude_non_unicode=True,\n",
    "             excluded_patterns=[\".git/**\"],\n",
    "             verbose=True):\n",
    "    pattern = '**/*'\n",
    "    result = []\n",
    "    for file_path in glob.glob(os.path.join(path, pattern), recursive=True):\n",
    "        if any(fnmatch.fnmatch(file_path, pat) for pat in excluded_patterns):\n",
    "            continue\n",
    "        if os.path.isfile(file_path):\n",
    "            if exclude_non_unicode and not is_unicode(file_path):\n",
    "                continue\n",
    "            if verbose:\n",
    "                print(f\"Including {file_path}\")\n",
    "            result.append(f\"--- File: {file_path} ---\")\n",
    "            with open(file_path, 'r', errors='ignore') as f:\n",
    "                result.append(f.read())\n",
    "            result.append(f\"--- End of {file_path} ---\")\n",
    "    return '\\n'.join(result)"
   ]
  },
  {
   "cell_type": "code",
   "execution_count": null,
   "id": "a498ea9c",
   "metadata": {},
   "outputs": [
    {
     "data": {
      "text/plain": [
       "'--- File: ./_quarto.yml ---\\nproject:\\n  type: website\\n\\nformat:\\n  html:\\n    theme: cosmo\\n    css: styles.css\\n    toc: true\\n    keep-md: true\\n  commonmark: default\\n\\nwebsite:\\n  twitter-card: true\\n  open-g'"
      ]
     },
     "execution_count": null,
     "metadata": {},
     "output_type": "execute_result"
    }
   ],
   "source": [
    "read_dir('.',verbose=False)[:200]"
   ]
  },
  {
   "cell_type": "markdown",
   "id": "dad1b4aa",
   "metadata": {},
   "source": [
    "### PDF reader"
   ]
  },
  {
   "cell_type": "code",
   "execution_count": null,
   "id": "164f189d",
   "metadata": {},
   "outputs": [],
   "source": [
    "#| export\n",
    "def read_pdf(file_path: str) -> str:\n",
    "    with open(file_path, 'rb') as file:\n",
    "        reader = PdfReader(file)\n",
    "        return ' '.join(page.extract_text() for page in reader.pages)"
   ]
  },
  {
   "cell_type": "code",
   "execution_count": null,
   "id": "22db8ce6",
   "metadata": {},
   "outputs": [
    {
     "data": {
      "text/plain": [
       "' \\n  \\n   \\nThis is a test PDF document. \\nIf you can read this, you have Adobe Acrobat Reader installed on your computer. '"
      ]
     },
     "execution_count": null,
     "metadata": {},
     "output_type": "execute_result"
    }
   ],
   "source": [
    "read_pdf('./test_dir/test.pdf')"
   ]
  },
  {
   "cell_type": "markdown",
   "id": "0b76babf",
   "metadata": {},
   "source": [
    "### YT Transcript"
   ]
  },
  {
   "cell_type": "code",
   "execution_count": null,
   "id": "4abffe24",
   "metadata": {},
   "outputs": [],
   "source": [
    "#| export\n",
    "def read_yt_transcript(yt_url):\n",
    "    from pytube import YouTube\n",
    "    from youtube_transcript_api import YouTubeTranscriptApi\n",
    "    try:\n",
    "        yt = YouTube(yt_url)\n",
    "        video_id = yt.video_id\n",
    "    except Exception as e:\n",
    "        print(f\"An error occurred parsing yt urul: {e}\")\n",
    "        return None\n",
    "    transcript = YouTubeTranscriptApi.get_transcript(video_id)\n",
    "    return ' '.join(entry['text'] for entry in transcript) "
   ]
  },
  {
   "cell_type": "code",
   "execution_count": null,
   "id": "bd719b5e",
   "metadata": {},
   "outputs": [
    {
     "data": {
      "text/plain": [
       "'- [Tim] A widescreen\\niPod with touch controls, a revolutionary mobile phone, and a breakthrough internet\\ncommunications device. (energetic music) (phone vibrating) Profound new intelligence capabiliti'"
      ]
     },
     "execution_count": null,
     "metadata": {},
     "output_type": "execute_result"
    }
   ],
   "source": [
    "yt_url = \"https://youtu.be/MRtg6A1f2Ko?si=C7YZU6FFLdi6v9rk\"\n",
    "s = read_yt_transcript(yt_url)\n",
    "s[:200]"
   ]
  },
  {
   "cell_type": "markdown",
   "id": "fbe765cb",
   "metadata": {},
   "source": [
    "### Google Sheet"
   ]
  },
  {
   "cell_type": "code",
   "execution_count": null,
   "id": "da885dd5",
   "metadata": {},
   "outputs": [],
   "source": [
    "#| export\n",
    "def read_google_sheet(orig_url):\n",
    "    sheet_id = orig_url.split('/d/')[1].split('/')[0]\n",
    "    csv_url = f'https://docs.google.com/spreadsheets/d/{sheet_id}/export?format=csv&id={sheet_id}&gid=0'\n",
    "    res = requests.get(url=csv_url)\n",
    "    return res.content"
   ]
  },
  {
   "cell_type": "code",
   "execution_count": null,
   "id": "41c10b49",
   "metadata": {},
   "outputs": [
    {
     "data": {
      "text/plain": [
       "b'Band Pull Around/Aparts\\r\\nShoulder Dislocations Straight\\r\\nShoulder Dislocations Side\\r\\nSuperman Dislocation\\r\\nScorpion Chest Stretch\\r\\nLatt Pulldown\\r\\nTwisty Shoulders\\r\\nRotator Cuff Pull\\r\\nWide bent over row'"
      ]
     },
     "execution_count": null,
     "metadata": {},
     "output_type": "execute_result"
    }
   ],
   "source": [
    "read_google_sheet('https://docs.google.com/spreadsheets/d/17Q3LzRCyM4md28IBxzSSERpaafLgOH8MjH5r6UkyVz8/edit?gid=0#gid=0')"
   ]
  },
  {
   "cell_type": "markdown",
   "id": "b5bac4f4",
   "metadata": {},
   "source": [
    "### Google Doc"
   ]
  },
  {
   "cell_type": "code",
   "execution_count": null,
   "id": "2f55293f",
   "metadata": {},
   "outputs": [],
   "source": [
    "#| export\n",
    "def gdoc_url_to_parseable(url):\n",
    "    pattern = r'(https://docs\\.google\\.com/document/d/[^/]+)/edit'\n",
    "    replacement = r'\\1/export?format=html'\n",
    "    return re.sub(pattern, replacement, url)"
   ]
  },
  {
   "cell_type": "code",
   "execution_count": null,
   "id": "05be287e",
   "metadata": {},
   "outputs": [
    {
     "name": "stdout",
     "output_type": "stream",
     "text": [
      "https://docs.google.com/document/d/13g-IDyuJyk5wE60bOH1YhhFgW8rlh2LnSXccBS0CQd0/export?format=html\n"
     ]
    }
   ],
   "source": [
    "# Test the function\n",
    "result = gdoc_url_to_parseable(\"https://docs.google.com/document/d/13g-IDyuJyk5wE60bOH1YhhFgW8rlh2LnSXccBS0CQd0/edit\")\n",
    "print(result)"
   ]
  },
  {
   "cell_type": "code",
   "execution_count": null,
   "id": "4585ff5e",
   "metadata": {},
   "outputs": [],
   "source": [
    "#| export\n",
    "def read_gdoc(url):\n",
    "    import re, requests, html2text\n",
    "    doc_url = url\n",
    "    doc_id = doc_url.split('/d/')[1].split('/')[0]\n",
    "    export_url = f'https://docs.google.com/document/d/{doc_id}/export?format=html'\n",
    "    html_doc_content = requests.get(export_url).text\n",
    "    doc_content = html2text.html2text(html_doc_content)\n",
    "    return doc_content"
   ]
  },
  {
   "cell_type": "code",
   "execution_count": null,
   "id": "0c2e6e6e",
   "metadata": {},
   "outputs": [
    {
     "data": {
      "text/plain": [
       "'# Top heading\\n\\nHello this is a context reading test\\n\\n## Heading 2\\n\\nBolded text is here as well as italisized\\n\\n  * I have bullets\\n  * Of things\\n\\n## Heading 3\\n\\nAnd ordered\\n\\n  1. Lists\\n  2. Of\\n  3. Thing'"
      ]
     },
     "execution_count": null,
     "metadata": {},
     "output_type": "execute_result"
    }
   ],
   "source": [
    "read_gdoc(\"https://docs.google.com/document/d/13g-IDyuJyk5wE60bOH1YhhFgW8rlh2LnSXccBS0CQd0/edit\")[:200]"
   ]
  },
  {
   "cell_type": "markdown",
   "id": "b65303b1",
   "metadata": {},
   "source": [
    "## Next:"
   ]
  },
  {
   "cell_type": "code",
   "execution_count": null,
   "id": "ec940333",
   "metadata": {},
   "outputs": [],
   "source": []
  }
 ],
 "metadata": {
  "kernelspec": {
   "display_name": "python3",
   "language": "python",
   "name": "python3"
  }
 },
 "nbformat": 4,
 "nbformat_minor": 5
}
