{
 "cells": [
  {
   "cell_type": "markdown",
   "id": "a95d05d1",
   "metadata": {},
   "source": [
    "# Read\n",
    "\n",
    "> Read X for llm context"
   ]
  },
  {
   "cell_type": "code",
   "execution_count": null,
   "id": "8dbe1eaa",
   "metadata": {},
   "outputs": [],
   "source": [
    "#| default_exp read"
   ]
  },
  {
   "cell_type": "code",
   "execution_count": null,
   "id": "7b15582f",
   "metadata": {},
   "outputs": [],
   "source": [
    "#| hide\n",
    "from nbdev.showdoc import *"
   ]
  },
  {
   "cell_type": "code",
   "execution_count": null,
   "id": "f0e50fa0",
   "metadata": {},
   "outputs": [],
   "source": [
    "#| export\n",
    "from httpx import get"
   ]
  },
  {
   "cell_type": "code",
   "execution_count": null,
   "id": "785e76f2",
   "metadata": {},
   "outputs": [],
   "source": [
    "#| export\n",
    "def read_gist(s, user): \n",
    "    # This should just be copy/paste url instead\n",
    "    return get(f'https://gist.githubusercontent.com/{user}/{s}').text"
   ]
  },
  {
   "cell_type": "markdown",
   "id": "bab69365",
   "metadata": {},
   "source": [
    "Todo ideas:\n",
    "- [X] read_url\n",
    "- [X] read_gist\n",
    "- [X] read_gh_file\n",
    "- [ ] read_ghurl\n",
    "- [X] read_file\n",
    "- [ ] read_dir\n",
    "- [ ] read_path\n",
    "- [ ] read_yt\n",
    "- [ ] read_gdoc\n",
    "- [ ] read_gsheet"
   ]
  },
  {
   "cell_type": "markdown",
   "id": "ca4a8b56",
   "metadata": {},
   "source": [
    "One possible interface:\n",
    "\n",
    "```\n",
    "read_thing(s)\n",
    "```\n",
    "\n",
    "Where the function would be smart enough to look at s and determine if\n",
    "it is:\n",
    "\n",
    "- a Github URL\n",
    "- a YT URL\n",
    "- a Google Doc URL\n",
    "- a \"plain\" URL (not identified as more specific)\n",
    "- a path to a file on disk\n",
    "- etc...\n",
    "\n",
    "But this is a convenience interface.\n",
    "\n",
    "library should also expose the separate dedicated `read` functions. \n",
    "\n",
    "ideally, these should also \"just work\" when simply given one positional argument, with further arguments being optional keyword args to request more specific behavior when necessary (maybe, output format besides a string).\n",
    "\n",
    "They should also return the same thing, where that thing is whatever\n",
    "is easiest to spit into context. str? dict?\n",
    "\n",
    "To start for now let us suppose:\n",
    "- each read_ function MUST work with one positional arg and MUST return a string.\n",
    "- later: optional args, maybe controlling other output formats, such a dictionary, a Claude-optimized bit of XML, etc..\n",
    "\n"
   ]
  },
  {
   "cell_type": "markdown",
   "id": "e1428e30",
   "metadata": {},
   "source": [
    "## Defining read_ functions"
   ]
  },
  {
   "cell_type": "code",
   "execution_count": null,
   "id": "61795b93",
   "metadata": {},
   "outputs": [],
   "source": [
    "%%ai\n",
    "Tell me about the python function or package html2md or html2text\n"
   ]
  },
  {
   "cell_type": "markdown",
   "id": "f031ef60",
   "metadata": {},
   "source": [
    "There are two popular Python packages for converting HTML to Markdown:\n",
    "\n",
    "1. html2text:\n",
    "   - Widely used and mature library\n",
    "   - Converts HTML to Markdown-formatted plain text\n",
    "   - Available via pip: `pip install html2text`\n",
    "   - Usage:\n",
    "     ```python\n",
    "     import html2text\n",
    "     h = html2text.HTML2Text()\n",
    "     markdown = h.handle(\"<h1>Hello World</h1>\")\n",
    "     ```\n",
    "\n",
    "2. html2markdown:\n",
    "   - Newer alternative\n",
    "   - Aims to produce cleaner Markdown output\n",
    "   - Available via pip: `pip install html2markdown`\n",
    "   - Usage:\n",
    "     ```python\n",
    "     from html2markdown import convert\n",
    "     markdown = convert(\"<h1>Hello World</h1>\")\n",
    "     ```\n",
    "\n",
    "Both libraries are useful for tasks like web scraping, content processing, or converting HTML emails to plain text."
   ]
  },
  {
   "cell_type": "code",
   "execution_count": null,
   "id": "34bbd7c5",
   "metadata": {},
   "outputs": [],
   "source": [
    "#def read_url_with_playwright(url):\n",
    "#    \"NOT THE REAL FN NAME\"\n",
    "#    from playwrightnb import url2md\n",
    "#    return url2md(url)\n",
    "\n",
    "def read_url(url):\n",
    "    import html2text, httpx\n",
    "    return html2text.html2text(httpx.get(url).text)\n",
    "   "
   ]
  },
  {
   "cell_type": "code",
   "execution_count": null,
   "id": "23cb0587",
   "metadata": {},
   "outputs": [],
   "source": [
    "def read_gist(s, user):\n",
    "    return get(f'https://gist.githubusercontent.com/{user}/{s}').text"
   ]
  },
  {
   "cell_type": "code",
   "execution_count": null,
   "id": "8124bb1d",
   "metadata": {},
   "outputs": [],
   "source": [
    "sample_gist_url = \"https://gist.github.com/algal/a490024ad088de1b857531c83abef0a0\"\n",
    "raw_gist_url = \"https://gist.githubusercontent.com/algal/a490024ad088de1b857531c83abef0a0/raw/d8b04e5b7c11d5b753b9225978e0216098295e9a/iterm2-url.source\"\n",
    "simpleraw_gist_url = \"https://gist.githubusercontent.com/algal/a490024ad088de1b857531c83abef0a0/raw\""
   ]
  },
  {
   "cell_type": "code",
   "execution_count": null,
   "id": "a96fa322",
   "metadata": {},
   "outputs": [
    {
     "name": "stdout",
     "output_type": "stream",
     "text": [
      "https://gist.github.com/algal/a490024ad088de1b857531c83abef0a0\n"
     ]
    }
   ],
   "source": [
    "print(sample_gist_url)"
   ]
  },
  {
   "cell_type": "code",
   "execution_count": null,
   "id": "d8aa0bef",
   "metadata": {},
   "outputs": [
    {
     "name": "stdout",
     "output_type": "stream",
     "text": [
      "https://gist.githubusercontent.com/algal/a490024ad088de1b857531c83abef0a0/raw\n"
     ]
    }
   ],
   "source": [
    "print(simpleraw_gist_url)"
   ]
  },
  {
   "cell_type": "code",
   "execution_count": null,
   "id": "b6734610",
   "metadata": {},
   "outputs": [],
   "source": [
    "%%aip\n",
    "generate python code which uses regexes to go from a URL like\n",
    "sample_gist_url to the URL in simpleraw_gist_url"
   ]
  },
  {
   "cell_type": "code",
   "execution_count": null,
   "id": "c4814bac",
   "metadata": {},
   "outputs": [],
   "source": [
    "import re\n",
    "\n",
    "def gist_url_to_raw(url):\n",
    "    pattern = r'https://gist\\.github\\.com/([^/]+)/([^/]+)'\n",
    "    match = re.match(pattern, url)\n",
    "    if match:\n",
    "        user, gist_id = match.groups()\n",
    "        return f'https://gist.githubusercontent.com/{user}/{gist_id}/raw'\n",
    "    # Comment: If the URL doesn't match the expected pattern, we return None\n",
    "    # You may want to raise an exception or handle this case differently\n",
    "    return None\n",
    "\n",
    "# Test the function\n",
    "result = gist_url_to_raw(sample_gist_url)\n",
    "print(result)"
   ]
  },
  {
   "cell_type": "code",
   "execution_count": null,
   "id": "9308f909",
   "metadata": {},
   "outputs": [],
   "source": [
    "def read_gist(url):\n",
    "    \"Returns raw gist content, or None\"\n",
    "    import re\n",
    "    pattern = r'https://gist\\.github\\.com/([^/]+)/([^/]+)'\n",
    "    match = re.match(pattern, url)\n",
    "    if match:\n",
    "        user, gist_id = match.groups()\n",
    "        raw_url = f'https://gist.githubusercontent.com/{user}/{gist_id}/raw'\n",
    "        return httpx.get(raw_url).text\n",
    "    else:\n",
    "        return None\n",
    "    \n",
    "    "
   ]
  },
  {
   "cell_type": "code",
   "execution_count": null,
   "id": "e17f06a2",
   "metadata": {},
   "outputs": [
    {
     "name": "stdout",
     "output_type": "stream",
     "text": [
      "https://github.com/hamelsmu/getrich-fasthtml/blob/main/.gitignore\n",
      "https://raw.githubusercontent.com/hamelsmu/getrich-fasthtml/refs/heads/main/.gitignore\n"
     ]
    }
   ],
   "source": [
    "gh_file_url=\"https://github.com/hamelsmu/getrich-fasthtml/blob/main/.gitignore\"\n",
    "gh_raw_file_url=\"https://raw.githubusercontent.com/hamelsmu/getrich-fasthtml/refs/heads/main/.gitignore\"\n",
    "print(gh_file_url)\n",
    "print(gh_raw_file_url)"
   ]
  },
  {
   "cell_type": "code",
   "execution_count": null,
   "id": "b6058f6f",
   "metadata": {},
   "outputs": [],
   "source": [
    "%%aip\n",
    "Please generate regex code to transform gh_file_url-like URLs to gh_raw_file_url-like URLs"
   ]
  },
  {
   "cell_type": "code",
   "execution_count": null,
   "id": "14792261",
   "metadata": {},
   "outputs": [],
   "source": [
    "import re\n",
    "\n",
    "def github_url_to_raw(url):\n",
    "    pattern = r'https://github\\.com/([^/]+)/([^/]+)/blob/([^/]+)/(.+)'\n",
    "    replacement = r'https://raw.githubusercontent.com/\\1/\\2/refs/heads/\\3/\\4'\n",
    "    return re.sub(pattern, replacement, url)\n",
    "\n",
    "# Test the function\n",
    "result = github_url_to_raw(gh_file_url)\n",
    "print(result)\n",
    "\n",
    "# Comment: This function assumes the URL structure remains consistent.\n",
    "# It may need adjustment if GitHub changes their URL format.\n",
    "# Also, it doesn't handle cases where the URL doesn't match the expected pattern.\n",
    "# You might want to add error handling for such cases."
   ]
  },
  {
   "cell_type": "code",
   "execution_count": null,
   "id": "746101ae",
   "metadata": {},
   "outputs": [],
   "source": [
    "def read_gh_file(url):\n",
    "    import re\n",
    "    pattern = r'https://github\\.com/([^/]+)/([^/]+)/blob/([^/]+)/(.+)'\n",
    "    replacement = r'https://raw.githubusercontent.com/\\1/\\2/refs/heads/\\3/\\4'\n",
    "    raw_url = re.sub(pattern, replacement, url)\n",
    "    return httpx.get(raw_url).text\n",
    "\n",
    "    "
   ]
  },
  {
   "cell_type": "code",
   "execution_count": null,
   "id": "59c7cb64",
   "metadata": {},
   "outputs": [],
   "source": [
    "s = read_gh_file(gh_file_url)"
   ]
  },
  {
   "cell_type": "code",
   "execution_count": null,
   "id": "db142751",
   "metadata": {},
   "outputs": [],
   "source": [
    "def read_file(path):\n",
    "    return open(path,'r').read()\n"
   ]
  },
  {
   "cell_type": "code",
   "execution_count": null,
   "id": "9e924a4f",
   "metadata": {},
   "outputs": [],
   "source": [
    "%%aip\n",
    "Generate Python code which reads all files below a certain path,\n",
    "concatenating their contents into a single string, adding within\n",
    "the string delimiter lines which communicate the paths of the\n",
    "individual files. Use glob patterns, please."
   ]
  },
  {
   "cell_type": "code",
   "execution_count": null,
   "id": "5895d597",
   "metadata": {},
   "outputs": [],
   "source": [
    "import os\n",
    "import glob\n",
    "\n",
    "def read_dir(path, \n",
    "             exclude_binaries=True,\n",
    "             excluded_patterns=[\".git/**\"],\n",
    "            verbose=True):\n",
    "    pattern='**/*'\n",
    "    result = []\n",
    "    for file_path in glob.glob(os.path.join(path, pattern), \n",
    "                               recursive=True):\n",
    "        # TODO: conditional here to vierfy file_path does NOT match any excluded patterns\n",
    "        if os.path.isfile(file_path):\n",
    "            # TODO: conditional here to skip files which are binaries not text\n",
    "            if verbos:\n",
    "                print(f\"Including {file_path}\")\n",
    "            result.append(f\"--- File: {file_path} ---\")\n",
    "            with open(file_path, 'r', errors='ignore') as f:\n",
    "                result.append(f.read())\n",
    "            result.append(f\"--- End of {file_path} ---\")\n",
    "    return '\\n'.join(result)\n",
    "\n",
    "# Usage example:\n",
    "# content = read_files_in_path('/path/to/directory', '**/*.py')\n",
    "# print(content)\n",
    "\n",
    "# Comment: This function uses '**/*' as the default pattern, which includes all files.\n",
    "# You can specify a different pattern like '**/*.py' for Python files only.\n",
    "# The 'errors=\"ignore\"' in open() helps handle potential encoding issues,\n",
    "# but you might want to adjust this based on your specific needs."
   ]
  },
  {
   "cell_type": "code",
   "execution_count": null,
   "id": "a8991a53",
   "metadata": {},
   "outputs": [],
   "source": [
    "%%aip\n",
    "Observe the TODO comments in the code above. Please generate a new\n",
    "function which fills those TODOs, using only stdlib modules."
   ]
  },
  {
   "cell_type": "code",
   "execution_count": null,
   "id": "81f30d9a",
   "metadata": {},
   "outputs": [],
   "source": [
    "import os\n",
    "import glob\n",
    "import fnmatch\n",
    "import mimetypes\n",
    "\n",
    "def is_binary(file_path):\n",
    "    mime = mimetypes.guess_type(file_path)[0]\n",
    "    return mime is not None and not mime.startswith('text')\n",
    "\n",
    "def read_dir(path, \n",
    "             exclude_binaries=True,\n",
    "             excluded_patterns=[\".git/**\"],\n",
    "             verbose=True):\n",
    "    pattern = '**/*'\n",
    "    result = []\n",
    "    for file_path in glob.glob(os.path.join(path, pattern), recursive=True):\n",
    "        if any(fnmatch.fnmatch(file_path, pat) for pat in excluded_patterns):\n",
    "            continue\n",
    "        if os.path.isfile(file_path):\n",
    "            if exclude_binaries and is_binary(file_path):\n",
    "                continue\n",
    "            if verbose:\n",
    "                print(f\"Including {file_path}\")\n",
    "            result.append(f\"--- File: {file_path} ---\")\n",
    "            with open(file_path, 'r', errors='ignore') as f:\n",
    "                result.append(f.read())\n",
    "            result.append(f\"--- End of {file_path} ---\")\n",
    "    return '\\n'.join(result)\n",
    "\n",
    "# Comment: This implementation uses fnmatch for pattern matching and\n",
    "# mimetypes for binary file detection. Note that mimetypes is not 100% accurate\n",
    "# for binary detection, so you might want to implement a more robust method\n",
    "# if accuracy is crucial."
   ]
  },
  {
   "cell_type": "code",
   "execution_count": null,
   "id": "8424a92a",
   "metadata": {},
   "outputs": [],
   "source": []
  }
 ],
 "metadata": {
  "kernelspec": {
   "display_name": "python3",
   "language": "python",
   "name": "python3"
  }
 },
 "nbformat": 4,
 "nbformat_minor": 5
}
