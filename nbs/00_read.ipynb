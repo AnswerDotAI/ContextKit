{
 "cells": [
  {
   "cell_type": "markdown",
   "id": "a95d05d1",
   "metadata": {},
   "source": [
    "# Read\n",
    "\n",
    "> Read X for llm context"
   ]
  },
  {
   "cell_type": "code",
   "execution_count": null,
   "id": "8dbe1eaa",
   "metadata": {},
   "outputs": [],
   "source": [
    "#| default_exp read"
   ]
  },
  {
   "cell_type": "code",
   "execution_count": null,
   "id": "7b15582f",
   "metadata": {},
   "outputs": [],
   "source": [
    "#| hide\n",
    "from nbdev.showdoc import *"
   ]
  },
  {
   "cell_type": "code",
   "execution_count": null,
   "id": "f0e50fa0",
   "metadata": {},
   "outputs": [],
   "source": [
    "#| export\n",
    "from httpx import get"
   ]
  },
  {
   "cell_type": "code",
   "execution_count": null,
   "id": "785e76f2",
   "metadata": {},
   "outputs": [],
   "source": [
    "#| export\n",
    "def read_gist(s, user): \n",
    "    # This should just be copy/paste url instead\n",
    "    return get(f'https://gist.githubusercontent.com/{user}/{s}').text"
   ]
  },
  {
   "cell_type": "markdown",
   "id": "bab69365",
   "metadata": {},
   "source": [
    "Todo ideas:\n",
    "- [X] read_url\n",
    "- [X] read_gist\n",
    "- [X] read_gh_file\n",
    "- [ ] read_ghurl\n",
    "- [X] read_file\n",
    "- [X] read_dir\n",
    "- [X] read_pdf\n",
    "- [ ] read_msword\n",
    "- [ ] read_gdoc\n",
    "- [ ] read_yt\n",
    "- [X] read_yt_transcript\n",
    "- [ ] read_gsheet"
   ]
  },
  {
   "cell_type": "markdown",
   "id": "ca4a8b56",
   "metadata": {},
   "source": [
    "One possible interface:\n",
    "\n",
    "```\n",
    "read_thing(s)\n",
    "```\n",
    "\n",
    "Where the function would be smart enough to look at s and determine if\n",
    "it is:\n",
    "\n",
    "- a Github URL\n",
    "- a YT URL\n",
    "- a Google Doc URL\n",
    "- a \"plain\" URL (not identified as more specific)\n",
    "- a path to a file on disk\n",
    "- etc...\n",
    "\n",
    "But this is a convenience interface.\n",
    "\n",
    "library should also expose the separate dedicated `read` functions. \n",
    "\n",
    "ideally, these should also \"just work\" when simply given one positional argument, with further arguments being optional keyword args to request more specific behavior when necessary (maybe, output format besides a string).\n",
    "\n",
    "They should also return the same thing, where that thing is whatever\n",
    "is easiest to spit into context. str? dict?\n",
    "\n",
    "To start for now let us suppose:\n",
    "- each read_ function MUST work with one positional arg and MUST return a string.\n",
    "- later: optional args, maybe controlling other output formats, such a dictionary, a Claude-optimized bit of XML, etc..\n",
    "\n"
   ]
  },
  {
   "cell_type": "markdown",
   "id": "56e4e574",
   "metadata": {},
   "source": [
    "requirements.txt\n",
    "\n",
    "```\n",
    "PyPDF2\n",
    "httpx\n",
    "youtube_transcript_api\n",
    "pytube\n",
    "```"
   ]
  },
  {
   "cell_type": "markdown",
   "id": "e1428e30",
   "metadata": {},
   "source": [
    "## Defining read_ functions"
   ]
  },
  {
   "cell_type": "code",
   "execution_count": null,
   "id": "61795b93",
   "metadata": {},
   "outputs": [],
   "source": [
    "%%ai 0\n",
    "Tell me about the python function or package html2md or html2text\n"
   ]
  },
  {
   "cell_type": "markdown",
   "id": "f031ef60",
   "metadata": {},
   "source": [
    "There are two popular Python packages for converting HTML to Markdown:\n",
    "\n",
    "1. html2text:\n",
    "   - Widely used and mature library\n",
    "   - Converts HTML to Markdown-formatted plain text\n",
    "   - Available via pip: `pip install html2text`\n",
    "   - Usage:\n",
    "     ```python\n",
    "     import html2text\n",
    "     h = html2text.HTML2Text()\n",
    "     markdown = h.handle(\"<h1>Hello World</h1>\")\n",
    "     ```\n",
    "\n",
    "2. html2markdown:\n",
    "   - Newer alternative\n",
    "   - Aims to produce cleaner Markdown output\n",
    "   - Available via pip: `pip install html2markdown`\n",
    "   - Usage:\n",
    "     ```python\n",
    "     from html2markdown import convert\n",
    "     markdown = convert(\"<h1>Hello World</h1>\")\n",
    "     ```\n",
    "\n",
    "Both libraries are useful for tasks like web scraping, content processing, or converting HTML emails to plain text."
   ]
  },
  {
   "cell_type": "code",
   "execution_count": null,
   "id": "34bbd7c5",
   "metadata": {},
   "outputs": [],
   "source": [
    "#def read_url_with_playwright(url):\n",
    "#    \"NOT THE REAL FN NAME\"\n",
    "#    from playwrightnb import url2md\n",
    "#    return url2md(url)\n",
    "\n",
    "def read_url(url):\n",
    "    import html2text, httpx\n",
    "    return html2text.html2text(httpx.get(url).text)\n",
    "   "
   ]
  },
  {
   "cell_type": "code",
   "execution_count": null,
   "id": "23cb0587",
   "metadata": {},
   "outputs": [],
   "source": [
    "def read_gist(s, user):\n",
    "    return get(f'https://gist.githubusercontent.com/{user}/{s}').text"
   ]
  },
  {
   "cell_type": "code",
   "execution_count": null,
   "id": "8124bb1d",
   "metadata": {},
   "outputs": [],
   "source": [
    "sample_gist_url = \"https://gist.github.com/algal/a490024ad088de1b857531c83abef0a0\"\n",
    "raw_gist_url = \"https://gist.githubusercontent.com/algal/a490024ad088de1b857531c83abef0a0/raw/d8b04e5b7c11d5b753b9225978e0216098295e9a/iterm2-url.source\"\n",
    "simpleraw_gist_url = \"https://gist.githubusercontent.com/algal/a490024ad088de1b857531c83abef0a0/raw\""
   ]
  },
  {
   "cell_type": "code",
   "execution_count": null,
   "id": "a96fa322",
   "metadata": {},
   "outputs": [
    {
     "name": "stdout",
     "output_type": "stream",
     "text": [
      "https://gist.github.com/algal/a490024ad088de1b857531c83abef0a0\n"
     ]
    }
   ],
   "source": [
    "print(sample_gist_url)"
   ]
  },
  {
   "cell_type": "code",
   "execution_count": null,
   "id": "d8aa0bef",
   "metadata": {},
   "outputs": [
    {
     "name": "stdout",
     "output_type": "stream",
     "text": [
      "https://gist.githubusercontent.com/algal/a490024ad088de1b857531c83abef0a0/raw\n"
     ]
    }
   ],
   "source": [
    "print(simpleraw_gist_url)"
   ]
  },
  {
   "cell_type": "code",
   "execution_count": null,
   "id": "b6734610",
   "metadata": {},
   "outputs": [],
   "source": [
    "%%aip 0\n",
    "generate python code which uses regexes to go from a URL like\n",
    "sample_gist_url to the URL in simpleraw_gist_url"
   ]
  },
  {
   "cell_type": "code",
   "execution_count": null,
   "id": "9308f909",
   "metadata": {},
   "outputs": [],
   "source": [
    "def read_gist(url):\n",
    "    \"Returns raw gist content, or None\"\n",
    "    import re\n",
    "    pattern = r'https://gist\\.github\\.com/([^/]+)/([^/]+)'\n",
    "    match = re.match(pattern, url)\n",
    "    if match:\n",
    "        user, gist_id = match.groups()\n",
    "        raw_url = f'https://gist.githubusercontent.com/{user}/{gist_id}/raw'\n",
    "        return httpx.get(raw_url).text\n",
    "    else:\n",
    "        return None\n",
    "    \n",
    "    "
   ]
  },
  {
   "cell_type": "code",
   "execution_count": null,
   "id": "e17f06a2",
   "metadata": {},
   "outputs": [
    {
     "name": "stdout",
     "output_type": "stream",
     "text": [
      "https://github.com/hamelsmu/getrich-fasthtml/blob/main/.gitignore\n",
      "https://raw.githubusercontent.com/hamelsmu/getrich-fasthtml/refs/heads/main/.gitignore\n"
     ]
    }
   ],
   "source": [
    "gh_file_url=\"https://github.com/hamelsmu/getrich-fasthtml/blob/main/.gitignore\"\n",
    "gh_raw_file_url=\"https://raw.githubusercontent.com/hamelsmu/getrich-fasthtml/refs/heads/main/.gitignore\"\n",
    "print(gh_file_url)\n",
    "print(gh_raw_file_url)"
   ]
  },
  {
   "cell_type": "code",
   "execution_count": null,
   "id": "b6058f6f",
   "metadata": {},
   "outputs": [],
   "source": [
    "%%aip\n",
    "Please generate regex code to transform gh_file_url-like URLs to gh_raw_file_url-like URLs"
   ]
  },
  {
   "cell_type": "code",
   "execution_count": null,
   "id": "14792261",
   "metadata": {},
   "outputs": [],
   "source": [
    "import re\n",
    "\n",
    "def github_url_to_raw(url):\n",
    "    pattern = r'https://github\\.com/([^/]+)/([^/]+)/blob/([^/]+)/(.+)'\n",
    "    replacement = r'https://raw.githubusercontent.com/\\1/\\2/refs/heads/\\3/\\4'\n",
    "    return re.sub(pattern, replacement, url)\n",
    "\n",
    "# Test the function\n",
    "result = github_url_to_raw(gh_file_url)\n",
    "print(result)\n",
    "\n",
    "# Comment: This function assumes the URL structure remains consistent.\n",
    "# It may need adjustment if GitHub changes their URL format.\n",
    "# Also, it doesn't handle cases where the URL doesn't match the expected pattern.\n",
    "# You might want to add error handling for such cases."
   ]
  },
  {
   "cell_type": "code",
   "execution_count": null,
   "id": "746101ae",
   "metadata": {},
   "outputs": [],
   "source": [
    "def read_gh_file(url):\n",
    "    import re\n",
    "    pattern = r'https://github\\.com/([^/]+)/([^/]+)/blob/([^/]+)/(.+)'\n",
    "    replacement = r'https://raw.githubusercontent.com/\\1/\\2/refs/heads/\\3/\\4'\n",
    "    raw_url = re.sub(pattern, replacement, url)\n",
    "    return httpx.get(raw_url).text\n",
    "\n",
    "    "
   ]
  },
  {
   "cell_type": "code",
   "execution_count": null,
   "id": "59c7cb64",
   "metadata": {},
   "outputs": [],
   "source": [
    "s = read_gh_file(gh_file_url)"
   ]
  },
  {
   "cell_type": "code",
   "execution_count": null,
   "id": "db142751",
   "metadata": {},
   "outputs": [],
   "source": [
    "def read_file(path):\n",
    "    return open(path,'r').read()\n"
   ]
  },
  {
   "cell_type": "code",
   "execution_count": null,
   "id": "9e924a4f",
   "metadata": {},
   "outputs": [],
   "source": [
    "%%aip 0\n",
    "Generate Python code which reads all files below a certain path,\n",
    "concatenating their contents into a single string, adding within\n",
    "the string delimiter lines which communicate the paths of the\n",
    "individual files. Use glob patterns, please."
   ]
  },
  {
   "cell_type": "code",
   "execution_count": null,
   "id": "5895d597",
   "metadata": {},
   "outputs": [],
   "source": [
    "import os\n",
    "import glob\n",
    "\n",
    "def read_dir(path, \n",
    "             exclude_binaries=True,\n",
    "             excluded_patterns=[\".git/**\"],\n",
    "            verbose=True):\n",
    "    pattern='**/*'\n",
    "    result = []\n",
    "    for file_path in glob.glob(os.path.join(path, pattern), \n",
    "                               recursive=True):\n",
    "        # TODO: conditional here to vierfy file_path does NOT match any excluded patterns\n",
    "        if os.path.isfile(file_path):\n",
    "            # TODO: conditional here to skip files which are binaries not text\n",
    "            if verbos:\n",
    "                print(f\"Including {file_path}\")\n",
    "            result.append(f\"--- File: {file_path} ---\")\n",
    "            with open(file_path, 'r', errors='ignore') as f:\n",
    "                result.append(f.read())\n",
    "            result.append(f\"--- End of {file_path} ---\")\n",
    "    return '\\n'.join(result)\n",
    "\n",
    "# Usage example:\n",
    "# content = read_files_in_path('/path/to/directory', '**/*.py')\n",
    "# print(content)\n",
    "\n",
    "# Comment: This function uses '**/*' as the default pattern, which includes all files.\n",
    "# You can specify a different pattern like '**/*.py' for Python files only.\n",
    "# The 'errors=\"ignore\"' in open() helps handle potential encoding issues,\n",
    "# but you might want to adjust this based on your specific needs."
   ]
  },
  {
   "cell_type": "code",
   "execution_count": null,
   "id": "a8991a53",
   "metadata": {},
   "outputs": [],
   "source": [
    "%%aip 0\n",
    "Observe the TODO comments in the code above. Please generate a new\n",
    "function which fills those TODOs, using only stdlib modules."
   ]
  },
  {
   "cell_type": "code",
   "execution_count": null,
   "id": "81f30d9a",
   "metadata": {},
   "outputs": [],
   "source": [
    "import os\n",
    "import glob\n",
    "import fnmatch\n",
    "import mimetypes\n",
    "\n",
    "import string\n",
    "\n",
    "def is_unicode(filepath, sample_size=1024):\n",
    "    try:\n",
    "        with open(filepath, 'r') as file:\n",
    "            sample = file.read(sample_size)\n",
    "        return True\n",
    "    except UnicodeDecodeError:\n",
    "        return False\n",
    "\n",
    "def read_dir(path, \n",
    "             exclude_non_unicode=True,\n",
    "             excluded_patterns=[\".git/**\"],\n",
    "             verbose=True):\n",
    "    pattern = '**/*'\n",
    "    result = []\n",
    "    for file_path in glob.glob(os.path.join(path, pattern), recursive=True):\n",
    "        if any(fnmatch.fnmatch(file_path, pat) for pat in excluded_patterns):\n",
    "            continue\n",
    "        if os.path.isfile(file_path):\n",
    "            if exclude_non_unicode and not is_unicode(file_path):\n",
    "                continue\n",
    "            if verbose:\n",
    "                print(f\"Including {file_path}\")\n",
    "            result.append(f\"--- File: {file_path} ---\")\n",
    "            with open(file_path, 'r', errors='ignore') as f:\n",
    "                result.append(f.read())\n",
    "            result.append(f\"--- End of {file_path} ---\")\n",
    "    return '\\n'.join(result)\n",
    "\n",
    "# Comment: This implementation uses fnmatch for pattern matching and\n",
    "# mimetypes for binary file detection. Note that mimetypes is not 100% accurate\n",
    "# for binary detection, so you might want to implement a more robust method\n",
    "# if accuracy is crucial."
   ]
  },
  {
   "cell_type": "code",
   "execution_count": null,
   "id": "b2525d00",
   "metadata": {},
   "outputs": [],
   "source": [
    "from PyPDF2 import PdfReader\n",
    "\n",
    "def read_pdf(file_path: str) -> str:\n",
    "    with open(file_path, 'rb') as file:\n",
    "        reader = PdfReader(file)\n",
    "        return ' '.join(page.extract_text() for page in reader.pages)\n",
    "    "
   ]
  },
  {
   "cell_type": "code",
   "execution_count": null,
   "id": "425fb350",
   "metadata": {},
   "outputs": [
    {
     "name": "stdout",
     "output_type": "stream",
     "text": [
      "/home/algal/gits/ContextKit/nbs\r\n"
     ]
    }
   ],
   "source": [
    "!pwd"
   ]
  },
  {
   "cell_type": "code",
   "execution_count": null,
   "id": "83057db6",
   "metadata": {},
   "outputs": [
    {
     "data": {
      "text/plain": [
       "'rose violet buttercupnil'"
      ]
     },
     "execution_count": null,
     "metadata": {},
     "output_type": "execute_result"
    }
   ],
   "source": [
    "read_pdf('./test_dir/cons-1.pdf')"
   ]
  },
  {
   "cell_type": "code",
   "execution_count": null,
   "id": "22db8ce6",
   "metadata": {},
   "outputs": [
    {
     "data": {
      "text/plain": [
       "\" \\n PARETO INC.  \\nCONFIDENTIAL INFORMATION AND  \\nINVENTION ASSIGNMENT AGREEMENT  \\nConsultant Name : James Macharia  (“Consultant ”)  \\nEffective Date : May 05, 2021  \\nAs a condition of becoming retained (or Consultant’s consulting relationship being \\ncontinued) by Pareto Inc. , a Delaware  corporation, or any of its current or future subsidiaries, \\naffiliates, successors or assigns (collectively, the “ Company ”), and in cons ideration of \\nConsultant’s consulting relationship with the Company and receipt of the compensation now and \\nhereafter paid by the Company, the receipt of Confidential Information (as defined below) while \\nassociated with the Company, and other good and valua ble consideration, the receipt and \\nsufficiency of which are hereby acknowledged, Consultant agrees to the following:  \\n1. Relationship .  This Confidential Information and Invention Assignment \\nAgreement (this “ Agreement ”) will apply to Consultant’s consulting re lationship with the \\nCompany.  If that relationship ends and the Company, within a year thereafter, either employs \\nConsultant or re -engages Consultant as a consultant, this Agreement will also apply to such later \\nemployment or consulting relationship, unles s the parties hereto otherwise agree in writing.  Any \\nsuch employment or consulting relationship between the parties hereto, whether commenced \\nprior to, upon or after the date of this Agreement, is referred to herein as the “ Relationship .” \\n2. Consulting Agree ment .  Consultant has entered into an agreement with the \\nCompany on or about the date hereof to provide various services to the Company (the \\n“Consulting Agreement ”).  The services to be rendered by Consultant under the Consulting \\nAgreement are referred to herein as the “ Services ” and this Agreement is intended to supplement \\nand form an integral part of the Consu lting Agreement.  \\n3. Confidential Information . \\n(a) Protection of Information .  Consultant understands that during the \\nRelationship, the Company intends to provide Consultant with information, including \\nConfidential Information (as defined below), without which Consultant would not be able to \\nperform Consultant’s duties to the Compa ny.  Consultant agrees, at all times during the term of \\nthe Relationship and thereafter, to hold in strictest confidence, and not to use, except for the \\nbenefit of the Company to the extent necessary to perform the Services, and not to disclose to \\nany pers on, firm, corporation or other entity, without written authorization from the Company in \\neach instance, any Confidential Information that Consultant obtains from the Company or \\notherwise obtains, accesses or creates in connection with, or as a result of, t he Services during \\nthe term of the Relationship, whether or not during working hours, until such Confidential \\nInformation becomes publicly and widely known and made generally available through no \\nwrongful act of Consultant or of others who were under confi dentiality obligations as to the item \\nor items involved.  Consultant further agrees not to make copies of such Confidential \\nInformation except as authorized by the Company.    \\n-2- (b) Confidential Information .  Consultant understands that “ Confidential \\nInformation ” means information and physical material not generally known or available outside \\nthe Company and information and physical material entrusted to the Company in confidence by \\nthird parties.  Confidential Information includes, without limitation:  (i) Company Inventions (as \\ndefined below); and (ii) technical data, trade secrets, know -how, research, product or service \\nideas or plans, software codes and designs, algorithms, developments, inventions, patent \\napplications, laboratory notebooks, processes, formulas, techniques, biological materials, mask \\nworks, engineering designs and drawings, hardware configuration information, agreements with \\nthird parties, lists of, or information relating to, employees and consultants of the Company \\n(including, but not limited to , the names, contact information, jobs, compensation, and expertise \\nof such employees and consultants), lists of, or information relating to, suppliers and customers \\n(including, but not limited to, customers of the Company on whom Consultant called or with  \\nwhom Consultant became acquainted during the Relationship), price lists, pricing \\nmethodologies, cost data, market share data, marketing plans, licenses, contract information, \\nbusiness plans, financial forecasts, historical financial data, budgets or other  business \\ninformation disclosed to Consultant by the Company either directly or indirectly, whether in \\nwriting, electronically, orally, or by observation.  \\n(c) Third Party Information .  Consultant’s agreements in this Section  3 are \\nintended to be for the benefit of the Company and any third party that has entrusted information \\nor physical material to the Company in confidence.  Consultant further agrees that, durin g the \\nterm of the Relationship and thereafter, Consultant will not improperly use or disclose to the \\nCompany any confidential, proprietary or secret information of Consu ltant’s former clients or \\nany other person, and Consultant agrees not to bring any such information onto the Company’s \\nproperty or place of business.  \\n(d) Other Rights .  This Agreement is intended to supplement, and not to \\nsupersede, any rights the Company may have in law or equity with respect to the protection of \\ntrade secrets or confidential or proprietary information.  \\n(e) U.S. Defend Trade Secrets Act.   Notwithstanding the foregoing, the U.S. \\nDefend Trade Secrets Act of 2016 (“ DTSA ”) provides that an individual shall not be held \\ncriminally or civilly liable under any federal or state trade secret law for the disclosure of a trade \\nsecret that is made (i) in confidence to a federal, state, or local government official, either \\ndirectly or indirectly, or to an attorn ey; and (ii) solely for the purpose of reporting or \\ninvestigating a suspected violation of law; or (iii) in a complaint or other document filed in a \\nlawsuit or other proceeding, if such filing is made under seal.  In addition, DTSA provides that \\nan individ ual who files a lawsuit for retaliation by an employer for reporting a suspected \\nviolation of law may disclose the trade secret to the attorney of the individual and use the trade \\nsecret information in the court proceeding, if the individual (A) files any document containing \\nthe trade secret under seal; and (B) does not disclose the trade secret, except pursuant to court \\norder.  \\n4. Ownership of Inventions . \\n(a) Inventions Retained and Licensed .  Consultant has attached hereto, as \\nExhibit A , a complete list describin g with particularity all Inventions (as defined below) that, as   \\n-3- of the Effective Date:  (i) Consultant made, and/or (ii) belong solely to Consultant or belong to \\nConsultant jointly with others or in which Consultant has an interest, and that relate in any way \\nto any of the Company’s actual or proposed businesses, products, services, or research and \\ndevelopment, and which are not assigned to the Company hereunder; or, if no such list is \\nattached, Consultant represents that there are no such Inventions at the  time of signing this \\nAgreement, and to the extent such Inventions do exist and are not listed on Exhibit  A, Consultant \\nhereby forever waives any and all rights or claims of ownership to such Inventions.  Consultant \\nunderstands that Consultant’s listing of  any Inventions on Exhibit  A does not constitute an \\nacknowledgement by the Company of the existence or extent of such Inventions, nor of \\nConsultant’s ownership of such Inventions.  Consultant further understands that Consultant must \\nreceive the formal appr oval of the Company before commencing Consultant’s Relationship with \\nthe Company.  \\n(b) Use or Incorporation of Inventions .  If in the course of the Relationship, \\nConsultant uses or incorporates into a product, service, process or machine any Invention not \\ncovered by Section  4(d) of this Agreement in which Consultant has an interest, Consultant will \\npromptly so inform the Company in writing.  Whether or not Consultant gives such notice, \\nConsultant hereby irrevocably grants to the Company a nonexclusive, fully paid -up, ro yalty -free, \\nassumable, perpetual, worldwide license, with right  to transfer and to sublicense, to practice and \\nexploit such Invention and to make, have made, copy, modify, make derivative works of, use, \\nsell, import, and otherwise distribute such Invention  under all applicable intellectual property \\nlaws without restriction of any kind.  \\n(c) Inventions .  Consultant understands that “ Inventions ” means discoveries, \\ndevelopments, concepts, designs, ideas, know how, improvements, inventions, trade secrets \\nand/or orig inal works of authorship, whether or not patentable, copyrightable or otherwise \\nlegally protectable.  Consultant understands this includes, but is not limited to, any new product, \\nmachine, article of manufacture, biological material, method, procedure, pro cess, technique, use, \\nequipment, device, apparatus, system, compound, formulation, composition of matter, design or \\nconfiguration of any kind, or any improvement thereon.  Consultant understands that “ Company \\nInventions ” means any and all Inventions that C onsultant or Consultant’s personnel may solely \\nor jointly author, discover, develop, conceive, or reduce to practice in connection with, or as a \\nresult of, the Services performed for the Company, except as otherwise provided in Section  4(g) \\nbelow.  \\n(d) Assignment of Company Inventions .  Consult ant hereby assigns to the \\nCompany, or its designee, and Consultant agrees that Consultant will promptly make full written \\ndisclosure to the Company, of and to  hold in trust for the sole right and benefit of the Company , \\nall Consultant’s right, title and interest throughout the world in and to any and all Company \\nInventions and all patent, copyright, trademark, trade s ecret and other intellectual property rights \\ntherein.  Consultant hereby waives and irrevocably quitclaims to the Company or its designee \\nany and all claims, of any nature whatsoever, that Consultant now has or may hereafter have for \\ninfringement of any an d all Company Inventions.  Any assignment of Company Inventions \\nincludes all rights of attribution, paternity, integrity, modification, disclosure and withdrawal, \\nand any other rights throughout the world that may be known as or referred to as “moral right s,” \\n“artist’s rights,” “droit moral,” or the like (collectively, “ Moral Rights ”).  To the extent that \\nMoral Rights cannot be assigned under applicable law, Consultant hereby waives and agrees not   \\n-4- to enforce any and all Moral Rights, including, without limi tation, any limitation on subsequent \\nmodification, to the extent permitted under applicable law.  \\n(e) Maintenance of Records .  Consultant agrees to keep and maintain \\nadequate and current written records of all Company Inventions made or conceived by \\nConsultant or Consultant’s personnel (solely or jointly with others) during the term of the \\nRelationship.  The records may be in the form of notes, sketches, drawings, flow charts, \\nelectronic data or recordings, laboratory notebooks, or any other format.  The records  will be \\navailable to and remain the sole property of the Company at all times.  Consultant agrees not to \\nremove such records from the Company’s place of business except as expressly permitted by \\nCompany policy which may, from time to time, be revised at t he sole election of the Company \\nfor the purpose of furthering the Company’s business.  Consultant agrees to deliver all such \\nrecords (including any copies thereof) to the Company  at the time of termination of the \\nRelationship as provided for in Section  5 and Section  6. \\n(f) Patent and Copyright Rights .  Consultant agrees to assist the Company, \\nor its designee, at its expense, in every proper way to secure the Company’s, or its designee’s,  \\nrights in the Company Inventions and any copyrights, patents, trademarks, mask work rights, \\nMoral R ights, or other intellectual property rights relating thereto in any and all countries, \\nincluding the disclosure to the Company or its designee of all pertinent information and data with \\nrespect thereto, the execution of all applications, specifications, o aths, assignments, recordations, \\nand all other instruments which the Company or its designee shall deem necessary in order to \\napply for, obtain, maintain and transfer such rights, or if not transferable, waive and agree never \\nto assert such rights, and in order to assign and convey to the Company or its designee, and any \\nsuccessors, assigns and nominees the sole and exclusive right, title and interest in and to such \\nCompany Inventions, and any copyrights, patents, mask work rights or other intellectual prop erty \\nrights relating thereto.  Consultant further agrees that Consultant’s obligation to execute or cause \\nto be executed, when it is in Consultant’s power to do so, any such instrument or papers shall \\ncontinue during and at all times after the end of the R elationship and until the expiration of the \\nlast such intellectual property right to expire in any country of the world.  Consultant hereby \\nirrevocably designates and appoints the Company  and its duly authorized officers and agents as \\nConsultant’s agent an d attorney -in-fact, to act for and in Consultant’s behalf and stead to execute \\nand file any such instruments and papers and to do all other lawfully permitted acts to further the \\napplication for, prosecution, issuance, maintenance or transfer of letters pa tent, copyright, mask \\nwork and other registrations related to such Company Inventions.  This power of attorney is \\ncoupled with an interest and shall not be affected by Consultant’s subsequent incapacity.  \\n(g) Exception to Assignments .  Subject to the requiremen ts of applicable \\nstate law, if any, Consultant understands that the Company Inventions will not include, and the \\nprovisions of this Agreement requiring assignment of inventions to the Company  do not apply to, \\nany invention which qualifies fully for exclusi on under the provisions of applicable state law, if \\nany, attached hereto as Exhi bit B.  In order to assist in the determination of which inventions \\nqualify for such exclusion, Consultant will advise the Company promptly in writing, during and \\nfor a period of twelve (12) months immediately following the termination  of the Relationship, of \\nall Inventions solely or jointly conceived or developed or reduced to practice by Consultant or \\nConsultant’s personnel in connection with, or as a result of, the Services p erformed for the \\nCompany during the period of the Relationship.    \\n-5- 5. Company Property; Returning Company Documents .  Consultant \\nacknowledges and agrees that Consultant has no expectation of privacy with respect to the \\nCompany’s telecommunications, networking or  information processing systems (including, \\nwithout limitation, files, e -mail m essages, and voice messages) and that Consultant’s activity and \\nany files or messages on or using any of those systems may be monitored or reviewed at any \\ntime without notice.  Consultant further agrees that any property situated on the Company’s \\npremises and owned by the Company, including disks and other storage media, filing cabinets or \\nother work areas, is subject to inspection by Company personnel at any time with or without  \\nnotice.  Consultant agrees that, at the time of termination of the Relationship, Consultant will \\ndeliver to the Company (and will not keep in Consultant’s possession, recreate or deliver to \\nanyone else) any and all devices, records, data, notes, reports, proposals, lists, correspondence, \\nspecifications, drawings, blueprints, sketches, laboratory notebooks, materials, flow charts, \\nequipment, other documents or property, or reproductions of any of the aforementioned items \\ndeveloped by Consultant or Consultan t’s personnel pursuant to the Relationship or otherwise \\nbelonging to the Company, its successors or assigns.  \\n6. Termination Certification .  In the event of the termination of the Relationship, \\nConsultant agrees to sign and deliver the “ Termination Certificati on” attached hereto as \\nExhibit  C; however, Consultant’s failure to sign and deliver the Termination Certification shall \\nin no way diminish Consultant’s continuing obligations under this Agreement.  \\n7. Notice to Third Parties .  Consultant agrees that during the  periods of time during \\nwhich Consultant is restricted in taking certain a ctions by the terms of Section  8 of this \\nAgreement (the “ Restriction Period ”), Consultant sh all inform any entity or person with whom \\nConsultant may seek to enter into a business relationship (whether as an owner, employee, \\nindependent contractor  or otherwise) of Consultant’s contractual obligations under this \\nAgreement.  Consultant also understa nds and agrees that the Company may, with or without \\nprior notice to Consultant and during or after the term of the Relationship, notify third parties of \\nConsultant’s agreements and obligations under this Agreement.  Consultant further agrees that, \\nupon wr itten request by the Company, Consultant will respond to the Company in writing \\nregarding the status of Consultant’s engagement or proposed engagement with any party during \\nthe Restriction Period.  \\n8. Solicitation of Employees, Consultants and Other Parties .  As described \\nabove, Consultant acknowledges and agrees that the Company’s Confidential Information \\nincludes information relating to the C ompany’s employees, consultants, customers and others, \\nand that Consultant will not use or disclose such Confidential Information except as authorized \\nby the Company.  Consultant further agrees as follows:  \\n(a) Employees, Consultants . Consultant agrees that during the term of the \\nRelationship, and for a period of twelve (12) months immediately following the termin ation of \\nthe Relationship for any reason, whether with or without cause, Consultant shall not, directly or \\nindirectly, solicit any of the Company’s employees or consultants to terminate their relationship \\nwith th e Company, or attempt to solicit  or take awa y employees or consultants of the Company, \\neither for Consultant or for any other person or entity.    \\n-6- (b) Other Parties .  Consultant agrees that during the term of the Relationship, \\nConsultant will not negatively influence any of the Company’s clients, licensors , licensees or \\ncustomers from purchasing Company products or services or solicit or influence or attempt to \\ninfluence any client, licensor, licensee, customer or other person either directly or indirectly, to \\ndirect any purchase of products and/or services  to any person, firm, corporation, institution or \\nother entity in competition with the business of the Company.  \\n9. No Change to Duration of Relationship .  Consultant understands and \\nacknowledges that this Agreement does not alter, amend or expand upon any rig hts Consultant \\nmay have to continue in the consulting relationship with, or in the duration o f Consultant’s \\nconsulting relationship with, the Company under any existing agreements between the Company \\nand Consultant, including without limitation the Consult ing Agreement, or under applicable law.  \\n10. Representations and Covenants . \\n(a) Facilitation of Agreement .  Consultant agrees to execute promptly, both \\nduring and after the end of the Relationship, any proper oath, and to verify any proper document, \\nrequired to car ry out the terms of this Agreement, upon the Company’s written request to do so.  \\n(b) No Conflicts .  Consultant represents that Consultant’s performance of all \\nthe terms of this Agreement does not and will not breach any agreement Consultant has entered \\ninto, o r will enter into, with any third party, including without limitation any agreement to keep \\nin confidence proprietary information or materials acquired by Consultant in confidence or in \\ntrust prior to or during the Relationship.  Consultant will not disclo se to the Company or use any \\ninventions, confidential or non -public proprietary information or material belonging to any \\nprevious client, employer or any other party.  Consultant will not induce the Company to use any \\ninventions, confidential or non -public  proprietary information, or material belonging to any \\nprevious client, employer or any other party.  Consultant acknowledges and agrees that \\nConsultant has listed on Exhibit  D all agreements ( e.g., non-competition agreements, non -\\nsolicitation of customers  agreements, non -solicitation of employees agreements, confidentiality \\nagreements, inventions agreements, etc.), if any, with a current or former client, employer, or any \\nother person or entity, that may restrict Consultant’s ability to perform services fo r the Company \\nor Consultant’s ability to recruit or engage customers or service providers on behalf of the \\nCompany, or otherwise relate to or restrict Consultant’s ability to perform Consultant’s duties for \\nthe Company or any obligation Consultant may have  to the Company.  Consultant agrees not to \\nenter into any written or oral agreement that conflicts with the provisions of this Agreement.  \\nConsultant further represents that Consultant does not presently perform or intend \\nto perform, during the term of the Consulting Agreement, consulting or other services for, and \\nConsultant is not presently employed by and has no intention of being employed by, companies \\nwhose businesses or proposed businesses in any way involve products or services that would be \\ncompetiti ve with the Company’s products or services, or those products or services proposed or \\nin development by the Company during the term of the Consulting Agreement (except for those \\ncompanies, if any, listed on Exhibit  D attached hereto).  If, however, Consult ant decides to do so, \\nConsultant agrees that, in advance of accepting such employment or agreeing to perform such \\nservices, Consultant will promptly notify the Company in writing, specifying the organization to   \\n-7- which Consultant proposes to render services,  and provide information sufficient to allow the \\nCompany to determine if such work would conflict with the interests of the Company.  \\n(c) Voluntary Execution .  Consultant certifies and acknowledges that \\nConsultant has carefully read all of the provisions of thi s Agreement, that Consultant understands \\nand has voluntarily accepted such provisions, and that Consultant will fully and faithfully \\ncomply with such provisions.  \\n11. Electronic Delivery .  Nothing herein is intended to imply  a right to participate in \\nany of the Company’s equity incentive plans, however, if Consultant does  participate in such \\nplan(s), t he Company may, in its sole discretion, decide to deliver any documents related to \\nConsultant’s participation in the Company’s  equity incentive plan(s) by electronic means or to \\nrequest Consultant’s consent to participate in such plan(s) by electronic means.  Consultant \\nhereby consents to receive such documents by electronic delivery and agrees , if applicable,  to \\nparticipate in s uch plan(s) through an on -line or electronic system established and maintained by \\nthe Company or a third party designated by the Company.  \\n12. Miscellaneous . \\n(a) Governing Law .  The validity, interpretation, construction and \\nperformance of this Agreement, and all acts and transactions pursuant hereto and the rights and \\nobligations of the parties hereto shall be governed, construed and interpreted in accordance with \\nthe laws of t he state of State of California, without giving effect to the principles of conflict of \\nlaws.  \\n(b) Entire Agreement .  Except as described in Section  2, this Agreement sets \\nforth the entire agreement and understanding between the Company and Consultant relating to its \\nsubject matter and merges all prior discussions between the parties to this Agreement.  No \\namendmen t to this Agreement will be effective unles s in writing signed by both parties to this \\nAgreement.  The Company shall not be deemed hereby to have waived any rights or remedies it \\nmay have in law or equity, nor to have given any authorizations or waived any of its rights under \\nthis Agreement, unless , and only to the extent, it does so by a specific writing signed by a duly \\nauthorized officer of the Company.  Any subsequent change or changes in Consultant’s duties, \\nobligations, rights or compensation will not affect the validity or scope of this Agree ment.  \\n(c) Successors and Assigns .  This Agreement will be binding upon \\nConsultant’s successors and assigns, and will be for the benefit of the Company, its successors, \\nand its assigns.  \\n(d) Notices .  Any notice, demand or request required or permitted to be given \\nunder this Agreement shall be in writing and shall be deemed sufficient when delivered \\npersonally or by overnight courier or sent by email, or 48 hours after being deposited in the U.S. \\nmail as certified or registered mail with postage prepaid, addressed to  the party to be notified at \\nsuch party’s address as set forth on the signature page, as subsequently modified by written \\nnotice, or if no address is specified on the signature page, at the most recent address set forth in \\nthe Company’s books and records.    \\n-8- (e) Severability .  If one or more of the provisions in this Agreement are \\ndeemed void or unenforceable to any extent in any context, such provisions shall nevertheless be \\nenforced to the fullest extent allowed by law in that and other contexts, and the validi ty and force \\nof the remainder of this Agreement shall not be affected.  The Company and Consultant have \\nattempted to limit Consultant’s right to use, maintain and disclose the Company’s Confidential \\nInformation, and to limit Consultant’s right to solicit e mployees and customers only to the extent \\nnecessary to protect the Company from unfair competition.  Should a court of competent \\njurisdiction determine that the scope of the covenants contained in Section  8 exceeds the \\nmaximum restrictiveness such court deems reasonable and enforceable, the parties intend that the \\ncourt should reform, modify and enforce the provision to such narrower scope as it determi nes to \\nbe reasonable and enforceable under the circumstances existing at that time.  In the event that \\nany court or government agency of competent jurisdiction determines that, notwithstanding the \\nterms of the Consulting Agreement specifying Consultant’s R elationship with the Company as \\nthat of an independent contractor, Consultant’s provision of services to the Company is not as an \\nindependent contractor but instead as an employee under the applicable laws, then solely to the \\nextent that such determination  is applicable, references in this Agreement to the Relationship \\nbetween Consultant and the Company shall be interpreted to include an employment \\nrelationship, and this Agreement shall not be invalid and unenforceable but shall be read to the \\nfullest exten t as may be valid and enforceable under the applicable laws to carry out the intent \\nand purpose of the Agreement.  \\n(f) Remedies .  Consultant acknowledges and agrees that violation of this \\nAgreement by Consultant may cause the Company irreparable harm, and ther efore Consultant \\nagrees that the Company will be entitled to seek extraordinary relief in court, including, but not \\nlimited to, temporary restraining orders, preliminary injunctions and permanent injunctions \\nwithout the necessity of posting a bond or other  security (or, where such a bond or security is \\nrequired, Consultant agrees that a $1,000 bond will be adequate),  in addition to and without \\nprejudice to any other rights or remedies that the Company may have for a breach of this \\nAgreement.  \\n(g) Advice of Couns el.  CONSULTANT ACKNOWLEDGES  THAT, IN \\nEXECUTING THIS AGREEMENT, CONSULTANT HAS  HAD THE OPPORTUNITY TO \\nSEEK THE ADVICE OF INDEPENDENT LEGAL COUNSEL, AND CONSULTANT HAS \\nREAD AND UNDERSTANDS  ALL OF THE TERMS AND PROVISIONS OF THIS \\nAGREEMENT.  THIS AGREEMENT S HALL NOT BE CONSTRUED AGAINST ANY \\nPARTY BY REASON OF THE DRAFTING OR PREPARATION HEREOF.  \\n(h) Counterparts .  This Agreement may be executed in any number of \\ncounterparts, each of which when so executed and delivered shall be deemed an original, and all \\nof which  together shall constitute one and the same agreement.   Execution of a facsimile copy \\nwill have the same force and effect as execution of an original, and a facsimile signature will be \\ndeemed an original and valid signature.  \\n[Signature Page Follows]    \\n-9- The parties have executed this Agreement on the respective dates set forth below, to be \\neffective as of the Effective Date first above written.  \\n \\nTHE COMPANY:  \\n \\nPARETO INC. \\nE-signed using Clerky (158ef46d9f3a8e332a13612889ff329f)  \\nBy: Xuechun Yao   \\nXuechun Yao, CEO & Founder  \\n8145 Halifax Drive  \\nClayton, MO 63105  \\nphoebe@hellopareto.com  \\nDate:  May 05, 2021  \\n \\n \\n \\nCONSULTANT : \\n \\nJAMES MACHARIA  \\nE-signed using Clerky (a01631d2b35214a7b6f9f6431d6d913f)  \\nJames Macharia   \\njamesmasher13@gmail.com  \\nDate:  May 05, 2021  \\n   \\n  EXHIBIT  A \\nLIST OF PRIOR INVENTIONS  \\nAND ORIGINAL WORKS OF AUTHORSHIP  \\nEXCLUDED UNDER SECTION  4(a)  \\nThe following is a list of all Inventions that, as of the Effective Date:  (A) Consultant \\nmade, and/or (B) belong solely to Consultant or belong to Consultant jointly with others \\nor in which  Consultant has an interest, and that relate in any way to any of the \\nCompany’s actual or proposed businesses, products, services, or research and \\ndevelopment, and which are not assigned to the Company:  \\n \\nPrior Inventions : \\nNone  \\n \\n[Signature Page Follows]    \\n-2-  \\nExcept as indicated above on this Exhibit A , Consultant has no inventions, improvements \\nor original works to disclose pursuant to Section  4(a) of this Agreement.  \\n \\nConsultant:  \\n \\nJAMES MACHARIA  \\nE-signed using Clerky (a01631d2b35214a7b6f9f6431d6d913f)  \\nJames Macharia   \\njamesmasher13@gmail.com  \\nDate:  May 05, 2021  \\n   \\n  EXHIBIT  B \\nSection 2870 of the California Labor Code is as follows:  \\n(a) Any provision in an employment agreement which provides that an \\nemployee shall assign, or offer to assign, any of his or her rights in an invention to his or \\nher employer shall not apply to an invention that the  employee developed entirely on his \\nor her own time without using the employer ’s equipment, supplies, facilities, or trade \\nsecret information except for those inventions that either:  \\n(1) Relate at the time of conception or reduction to practice of the \\ninvention to the employer ’s business, or actual or demonstrably anticipated research or \\ndevelopment of the employer; or  \\n(2) Result from any work performed by the employee for the \\nemployer.  \\n(b) To the extent a provision in an employment agreement purports t o require \\nan employee to assign an invention otherwise excluded from being required t o be \\nassigned under subdivision  (a), the provision is against the public policy of this state and \\nis unenforceable.  \\nChapter 765, Section 1060/2 of the Illinois Compiled St atutes is as follows:  \\n(1) A provision in an employment agreement which provides that an \\nemployee shall assign or offer to assign any of the employee ’s rights in an invention to \\nthe employer does not apply to an invention for which no equipment, supplies, f acilities, \\nor trade secret information of the employer was used and which was developed entirely \\non the employee’s own time, unless (a)  the invention relates (i)  to the bu siness of the \\nemployer, or (ii)  to the employer ’s actual or demonstrably anticipated research or \\ndevelopment, or (b) the invention results from any work performed by the employee for \\nthe employer. Any provision which purports to apply to such an invention is to that extent \\nagainst the public policy of this State and is to that extent void and unenforceable. The \\nemployee shall bear the burden of proof in establishing that his invention qualifies under \\nthis subsection.  \\n(2) An employer shall not require a provision made void and unenforceable \\nby subsectio n (1) of this Section as a condition of employment or continuing \\nemployment. This Act shall not preempt existing common law applicable to any shop \\nrights of employers with respect to employees who have not signed an employment \\nagreement.  \\n(3) If an employment agreement entered into after January 1, 1984, contains a \\nprovision requiring the employee to assign any of the employee ’s rights in any invention \\nto the employer, the employer must also, at the time the agreement is made, provide a \\nwritten notification to the employee that the a greement does not apply to an invention for   \\n-2- which no equipment, supplies, facility, or trade secret information of the employer was \\nused and which was developed entirely on the employee’s own time, unless (a)  the \\ninvention re lates (i)  to the bu siness of th e employer, or (ii)  to the employer ’s actual or \\ndemonstrably anticipated research or development, or (b)  the invention results from any \\nwork performed by the employee for the employer.  \\nSections 44 -130 of the Kansas Labor and Industries Code is as follows:  \\n(a) Any provision in an employment agreement which provides that an \\nemployee shall assign or offer to assign any of the employee ’s rights in an invention to \\nthe employer shall not apply to an invention for which no equipment, supplies, facilities \\nor trade  secret information of the employer was used and which was developed entirely \\non the employee ’s own time, unless:  \\n(1) The invention relates to the business of the employer or to the \\nemployer ’s actual or demonstrably anticipated research or development; or  \\n(2) the invention results from any work performed by the employee for \\nthe employer.  \\n(b) Any provision in an employment agreement which purports to apply to an \\ninvention which it is prohibited from applying to under subsection (a), is to that extent \\nagainst  the public policy of this state and is to that extent void and unenforceable. No \\nemployer shall require a provision made void and unenforceable by this section as a \\ncondition of employment or continuing employment.  \\nSection 181.78 of the Minnesota Labor, I ndustry Code is as follows:  \\n(c) If an employment agreement contains a provision requiring the employee to \\nassign any of the employee's rights in any invention to the employer, the employer shall \\nprovide, at the time the agreement is made, a written notific ation to the employee that the \\nagreement does not apply to an invention for which no equipment, supplies, facility or \\ntrade secret information of the employer was used and which was developed entirely on \\nthe employee's own time, unless:  \\n (1) The invention relates directly to the business of the employer or to the \\nemployer's actual or demonstrably anticipated research or development; or  \\n (2) The invention results from any work performed by the employee for the \\nemployer.  \\n(d) Even though the employee meets the  burden of proving the conditions specified in \\nthis section, the employee shall disclose, at the time of employment or thereafter, all \\ninventions being developed by the employee, for the purpose of determining employer \\nand employee rights in an invention.    \\n-3- Section 49.44.140 of the Washington Labor Regulations is as follows:  \\n(1) A provision in an employment agreement which provides that an \\nemployee shall assign or offer to assign any of the employee ’s rights in an invention to \\nthe employer does not apply to a n invention for which no equipment, supplies, facilities, \\nor trade secret information of the employer was used and which was developed entirely \\non the employee’s own time, unless (a)  the invention relates (i)  directly to the bu siness of \\nthe employer, or (i i) to the employer ’s actual or demonstrably anticipated research or \\ndevelopment, or (b)  the invention results from any work performed by the employee for \\nthe employer. Any provision which purports to apply to such an invention is to that extent \\nagainst the  public policy of this state and is to that extent void and unenforceable.  \\n(2) An employer shall not require a provision made void and unenforceable \\nby subsection  (1) of this section as a condition of employment or continuing employment.  \\n(3) If an employme nt agreement entered into after September 1, 1979, \\ncontains a provision requiring the employee to assign any of the employee ’s rights in any \\ninvention to the employer, the employer must also, at the time the agreement is made, \\nprovide a written notificatio n to the employee that the agreement does not apply to an \\ninvention for which no equipment, supplies, facility, or trade secret information of the \\nemployer was used and which was developed entirely on the employee ’s own tim e, \\nunless (a)  the invention relat es (i)  directly to the bu siness of the employer, or (ii)  to the \\nemployer ’s actual or demonstrably anticipated research or development, or (b)  the \\ninvention results from any work performed by the employee for the employer.  \\n   \\n EXHIBIT  C \\nTERMINATION CERTIFICATION  \\nThis is to certify that Consultant does not have in Consultant’s possession, nor has \\nConsultant failed to return, any devices, records, data, notes, reports, proposals, lists, \\ncorrespondence, specifications, drawings, blueprints, sketches, laboratory noteb ooks, \\nflow charts, materials, equipment, other documents or property, or copies or \\nreproductions of any aforementioned items belonging to Pareto Inc., a Delaware \\ncorporation, its subsidiaries, affiliates, successors or assigns (collectively, the \\n“Company ”). \\nConsultant further certifies that Consultant has complied with all the terms of the \\nCompany’s Confidential Information and Invention Assignment Agreement signed by \\nConsultant, including the reporting of any Inventions (as defined therein), conceived or \\nmade by Consultant or Consultant’s personnel (solely or jointly with others) covered by \\nthat agreement, and Consultant acknowledges Consultant’s continuing obligations under \\nthat agreement.  \\nConsultant further agrees that, in compliance with the Confidential  Information \\nand Invention Assignment Agreement, Consultant will preserve as confidential all trade \\nsecrets, confidential knowledge, data or other proprietary information relating to \\nproducts, processes, know -how, designs, formulas, developmental or experi mental work, \\ncomputer programs, data bases, other original works of authorship, customer lists, \\nbusiness plans, financial information or other subject matter pertaining to any business of \\nthe Company or any of its employees, clients, consultants or license es. \\nConsultant further agrees that for twelve (12) months immediately following the \\ntermination of Consultant’s Relationship with the Company, Consultant shall not either \\ndirectly or indirectly solicit any of the Company’s employees or consultants to termi nate \\ntheir relationship with the Company, or attempt to solicit or take away employees or \\nconsultants of the Company, either for Consultant or for any other person or entity.  \\nFurther, Consultant agrees that Consultant shall not use any Confidential \\nInforma tion of the Company to negatively influence any of the Company’s clients or \\ncustomers from purchasing Company products or services or to solicit or influence or \\nattempt to influence any client, customer or other person either directly or indirectly, to \\ndirect any purchase of products and/or services to any person, firm, corporation, \\ninstitution or other entity in competition with the business of the Company.  \\nCONSULTANT :  James Macharia  \\nSignature:        Date:        \\n   \\n EXHIBIT  D \\nLIST OF AGREEMENTS AND COMPANIES  \\nDISCLOSED  UNDER  SECTION  10(B) \\n \\nPrior Agreements  \\nNone  \\n \\nCompetitors  \\nNone.  \\n \\n \\n \\nExcept as indicated above on this Exhibit D , Consultant has no disclosures to be made  \\npursuant to Section  10(b)  of this Agreement.  \\n \\nCONSULTANT : \\n \\nJAMES MACHARIA  \\nE-signed using Clerky (a01631d2b35214a7b6f9f6431d6d913f)  \\nJames Macharia   \\njamesmasher13@gmail.com  \\nDate:  May 05, 2021  \""
      ]
     },
     "execution_count": null,
     "metadata": {},
     "output_type": "execute_result"
    }
   ],
   "source": [
    "read_pdf('./test_dir/legal.pdf')"
   ]
  },
  {
   "cell_type": "code",
   "execution_count": null,
   "id": "4abffe24",
   "metadata": {},
   "outputs": [],
   "source": [
    "from pytube import YouTube\n",
    "\n",
    "def read_yt_transcript(yt_url):\n",
    "    from pytube import YouTube\n",
    "    from youtube_transcript_api import YouTubeTranscriptApi\n",
    "    try:\n",
    "        yt = YouTube(yt_url)\n",
    "        video_id = yt.video_id\n",
    "    except Exception as e:\n",
    "        print(f\"An error occurred parsing yt urul: {e}\")\n",
    "        return None\n",
    "    transcript = YouTubeTranscriptApi.get_transcript(video_id)\n",
    "    return ' '.join(entry['text'] for entry in transcript)\n",
    "\n",
    "\n",
    "    "
   ]
  },
  {
   "cell_type": "code",
   "execution_count": null,
   "id": "bd719b5e",
   "metadata": {},
   "outputs": [],
   "source": [
    "yt_url = \"https://youtu.be/MRtg6A1f2Ko?si=C7YZU6FFLdi6v9rk\"\n",
    "s = read_yt_transcript(yt_url)"
   ]
  },
  {
   "cell_type": "code",
   "execution_count": null,
   "id": "83e87994",
   "metadata": {},
   "outputs": [],
   "source": [
    "read_gdoc"
   ]
  }
 ],
 "metadata": {
  "kernelspec": {
   "display_name": "python3",
   "language": "python",
   "name": "python3"
  }
 },
 "nbformat": 4,
 "nbformat_minor": 5
}
