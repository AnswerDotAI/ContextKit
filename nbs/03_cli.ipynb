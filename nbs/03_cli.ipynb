{
 "cells": [
  {
   "cell_type": "markdown",
   "id": "925fdc56",
   "metadata": {},
   "source": [
    "# Projects\n",
    "\n",
    "> Create and load pre-built aimagic notebooks for contexts"
   ]
  },
  {
   "cell_type": "code",
   "execution_count": null,
   "id": "22fde803",
   "metadata": {},
   "outputs": [],
   "source": [
    "#| default_exp projects"
   ]
  },
  {
   "cell_type": "code",
   "execution_count": null,
   "id": "f57dc24b",
   "metadata": {},
   "outputs": [],
   "source": [
    "from f"
   ]
  }
 ],
 "metadata": {
  "kernelspec": {
   "display_name": "python3",
   "language": "python",
   "name": "python3"
  }
 },
 "nbformat": 4,
 "nbformat_minor": 5
}
