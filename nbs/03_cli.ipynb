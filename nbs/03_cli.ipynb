{
 "cells": [
  {
   "cell_type": "markdown",
   "id": "925fdc56",
   "metadata": {},
   "source": [
    "# CLI\n",
    "\n",
    "> Create and load pre-built aimagic notebooks for contexts"
   ]
  },
  {
   "cell_type": "code",
   "execution_count": null,
   "id": "22fde803",
   "metadata": {},
   "outputs": [],
   "source": [
    "#| default_exp cli"
   ]
  },
  {
   "cell_type": "code",
   "execution_count": null,
   "id": "f68f685b",
   "metadata": {},
   "outputs": [],
   "source": [
    "#|export\n",
    "import webbrowser\n",
    "from urllib.parse import quote\n",
    "from pathlib import Path\n",
    "import ContextKit.contexts as ctx\n",
    "import argparse\n",
    "from fastcore.all import bind\n",
    "from ContextKit.projects import *"
   ]
  },
  {
   "cell_type": "code",
   "execution_count": null,
   "id": "73901b70",
   "metadata": {},
   "outputs": [],
   "source": [
    "#| export\n",
    "def open_nb(path=None, host='localhost', port=8888, base_dir='~/github'):\n",
    "    base_url = f\"http://{host}:{port}/notebooks\"\n",
    "    base_dir = Path(base_dir).expanduser()\n",
    "    current_dir = str(Path.cwd().relative_to(base_dir))\n",
    "    url = f\"{base_url}/{quote(current_dir)}\"\n",
    "    if path:\n",
    "        url += f\"/{quote(str(path))}\"\n",
    "    webbrowser.open(url)\n",
    "    "
   ]
  },
  {
   "cell_type": "code",
   "execution_count": null,
   "id": "3d1dcdbe",
   "metadata": {},
   "outputs": [],
   "source": [
    "#| export\n",
    "def create_nb_cmd(path, ctx_name, force, templates):\n",
    "    if path.is_dir():\n",
    "        print(f\"Error: {path} is a directory. Please provide a file path.\")\n",
    "        return\n",
    "    if ctx_name not in templates:\n",
    "        print(f\"Error: {ctx_name} is not a valid context name.\")\n",
    "        print(f\"Valid options are: {', '.join(templates.keys())}\")\n",
    "        return\n",
    "    if path.exists() and not force:\n",
    "        overwrite = input(f\"{path} already exists. Overwrite? (y/N): \").lower() == 'y'\n",
    "        if not overwrite:\n",
    "            print(\"Create NB cancelled.  If if using `co`, will open existing nb.\")\n",
    "            return\n",
    "    create_magic_template_nb(ctx_name, str(path))\n",
    "    print(f\"Notebook created at {path}\")"
   ]
  },
  {
   "cell_type": "code",
   "execution_count": null,
   "id": "c65046a3",
   "metadata": {},
   "outputs": [],
   "source": [
    "#| export\n",
    "def create_and_open_nb(path, ctx_name, force, templates,\n",
    "                       host='localhost', port=8888, base_dir=None):\n",
    "    create_nb_cmd(path, ctx_name, force, templates)\n",
    "    open_nb(path, host, port, base_dir)"
   ]
  },
  {
   "cell_type": "code",
   "execution_count": null,
   "id": "f57dc24b",
   "metadata": {},
   "outputs": [],
   "source": [
    "#| export    \n",
    "def ck():\n",
    "    templates = {name[4:]: name for name in dir(ctx) if name.startswith('ctx_')}\n",
    "    \n",
    "    parser = argparse.ArgumentParser(description=\"Create a magic template notebook or open Jupyter notebook.\")\n",
    "    subparsers = parser.add_subparsers(dest='command')\n",
    "\n",
    "    create_parser = subparsers.add_parser('c', help='Create a magic template notebook')\n",
    "    create_parser.add_argument('ctx_name', help=f\"Context name. One of: {', '.join(templates.keys())}\")\n",
    "    create_parser.add_argument('path', help=\"Output path for the notebook\")\n",
    "    create_parser.add_argument('--force', default=False, action='store_true', help=\"Force overwrite without prompting\")\n",
    "    \n",
    "    jnb_parser = subparsers.add_parser('o', help='Open Jupyter notebook')\n",
    "    jnb_parser.add_argument('path', help=\"Path to the notebook\")\n",
    "    jnb_parser.add_argument('--host', default='localhost', help=\"Jupyter server host\")\n",
    "    jnb_parser.add_argument('--port', type=int, default=8888, help=\"Jupyter server port\")\n",
    "    jnb_parser.add_argument('--jupy-base-dir', type=Path, default='~/github', help=\"Base directory for notebook paths\")\n",
    "\n",
    "    create_and_open_parser = subparsers.add_parser('co', help='Create a magic template notebook and open it')\n",
    "    create_and_open_parser.add_argument('ctx_name', help=f\"Context name. One of: {', '.join(templates.keys())}\")\n",
    "    create_and_open_parser.add_argument('path', help=\"Output path for the notebook\")\n",
    "    create_and_open_parser.add_argument('--force', default=False, action='store_true', help=\"Force overwrite without prompting\")\n",
    "    create_and_open_parser.add_argument('--host', default='localhost', help=\"Jupyter server host\")\n",
    "    create_and_open_parser.add_argument('--port', type=int, default=8888, help=\"Jupyter server port\")\n",
    "    create_and_open_parser.add_argument('--jupy_base-dir', type=Path, default='~/github', help=\"Base directory for notebook paths\")\n",
    "\n",
    "    args = parser.parse_args()\n",
    "    \n",
    "    args.path = Path(args.path).with_suffix('.ipynb')\n",
    "\n",
    "    if args.command == 'c': create_nb_cmd(args.path, args.ctx_name, args.force, templates)\n",
    "    elif args.command == 'o': open_nb(args.path, args.host, args.port, args.jupy_base_dir)\n",
    "    elif args.command == 'co': create_and_open_nb(args.path, args.ctx_name, args.force, templates,\n",
    "                                                  args.host, args.port, args.jupy_base_dir)\n",
    "    else: parser.print_help()"
   ]
  },
  {
   "cell_type": "code",
   "execution_count": null,
   "id": "fb00ac53",
   "metadata": {},
   "outputs": [],
   "source": []
  }
 ],
 "metadata": {
  "kernelspec": {
   "display_name": "python3",
   "language": "python",
   "name": "python3"
  }
 },
 "nbformat": 4,
 "nbformat_minor": 5
}
