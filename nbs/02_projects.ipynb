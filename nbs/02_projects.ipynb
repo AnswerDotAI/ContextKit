{
 "cells": [
  {
   "cell_type": "markdown",
   "id": "3f71a429",
   "metadata": {},
   "source": [
    "# Projects\n",
    "\n",
    "> Create and load pre-built aimagic notebooks for contexts"
   ]
  },
  {
   "cell_type": "code",
   "execution_count": null,
   "id": "1ab932df",
   "metadata": {},
   "outputs": [],
   "source": [
    "#| default_exp projects"
   ]
  },
  {
   "cell_type": "code",
   "execution_count": null,
   "id": "0e00fe67",
   "metadata": {},
   "outputs": [],
   "source": [
    "#| export\n",
    "import json\n",
    "from pathlib import Path"
   ]
  },
  {
   "cell_type": "code",
   "execution_count": null,
   "id": "6d3652a7",
   "metadata": {},
   "outputs": [],
   "source": [
    "#| export\n",
    "def create_cell(cell_type: str, outputs: list, source: list):\n",
    "    assert cell_type in ('code','markdown')\n",
    "    # source must be split on newline - check execnb\n",
    "    cell = {'cell_type': cell_type, 'execution_count': None, 'metadata': {}, 'source': source} \n",
    "    if cell_type == 'code': cell['outputs'] = outputs\n",
    "    return cell"
   ]
  },
  {
   "cell_type": "code",
   "execution_count": null,
   "id": "ee7923d9",
   "metadata": {},
   "outputs": [],
   "source": [
    "#| export\n",
    "def create_nb(cells, path):\n",
    "    assert isinstance(cells, list)\n",
    "    nb = {\"cells\": cells, \"metadata\": {}, \"nbformat\": 4, \"nbformat_minor\": 4}\n",
    "    Path(path).write_text(json.dumps(nb, indent=2))"
   ]
  },
  {
   "cell_type": "code",
   "execution_count": null,
   "id": "fd0b23b4",
   "metadata": {},
   "outputs": [],
   "source": [
    "#| export\n",
    "def create_magic_template_cells(*source):\n",
    "    return [create_cell('code',[],o) for o in source]"
   ]
  },
  {
   "cell_type": "code",
   "execution_count": null,
   "id": "93d242b2",
   "metadata": {},
   "outputs": [],
   "source": [
    "#| export\n",
    "# Instead of saving, want to build these dynamically based on the contexts module.\n",
    "templates = {\n",
    "    'fasthtml': (['import ContextKit.projects as ck\\n','fh = fasthtml()'],['%%ai -c\\n','\\n','Read and give very brief explanation of what is in $`llms_ctx` and $`hypermedia_summary`'])\n",
    "    }"
   ]
  },
  {
   "cell_type": "code",
   "execution_count": null,
   "id": "49b8d8c3",
   "metadata": {},
   "outputs": [],
   "source": [
    "create_nb(create_magic_template_cells(*templates['fasthtml']),'../testnb2.ipynb')"
   ]
  },
  {
   "cell_type": "code",
   "execution_count": null,
   "id": "07a1ee6f",
   "metadata": {},
   "outputs": [],
   "source": []
  },
  {
   "cell_type": "markdown",
   "id": "ce6ceb29",
   "metadata": {},
   "source": [
    "Todo\n",
    "+ GH api - bash completion\n",
    "+ execnb write_nb\n",
    "+ heirarchical docs railway.blah"
   ]
  },
  {
   "cell_type": "code",
   "execution_count": null,
   "id": "bcb98db8",
   "metadata": {},
   "outputs": [],
   "source": []
  }
 ],
 "metadata": {
  "kernelspec": {
   "display_name": "python3",
   "language": "python",
   "name": "python3"
  }
 },
 "nbformat": 4,
 "nbformat_minor": 5
}
