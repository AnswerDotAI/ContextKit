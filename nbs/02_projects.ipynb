{
 "cells": [
  {
   "cell_type": "markdown",
   "id": "3f71a429",
   "metadata": {},
   "source": [
    "# Projects\n",
    "\n",
    "> Create and load pre-built aimagic notebooks for contexts"
   ]
  },
  {
   "cell_type": "code",
   "execution_count": null,
   "id": "1ab932df",
   "metadata": {},
   "outputs": [],
   "source": [
    "#| default_exp projects"
   ]
  },
  {
   "cell_type": "code",
   "execution_count": null,
   "id": "0e00fe67",
   "metadata": {},
   "outputs": [],
   "source": [
    "#| export\n",
    "import json\n",
    "from pathlib import Path\n",
    "import ContextKit.contexts as ctx\n",
    "from fastcore.all import bind\n",
    "\n",
    "from fastcore.all import call_parse\n",
    "from typing import Annotated\n",
    "import sys"
   ]
  },
  {
   "cell_type": "code",
   "execution_count": null,
   "id": "6d3652a7",
   "metadata": {},
   "outputs": [],
   "source": [
    "#| export\n",
    "def create_cell(cell_type: str, outputs: list, source: list):\n",
    "    assert cell_type in ('code','markdown')\n",
    "    # source must be split on newline - check execnb\n",
    "    cell = {'cell_type': cell_type, 'execution_count': None, 'metadata': {}, 'source': source} \n",
    "    if cell_type == 'code': cell['outputs'] = outputs\n",
    "    return cell"
   ]
  },
  {
   "cell_type": "code",
   "execution_count": null,
   "id": "88f3cf55",
   "metadata": {},
   "outputs": [],
   "source": [
    "#| export\n",
    "def create_magic_template_cells(ctx_name):\n",
    "    _fn = bind(create_cell,outputs=[], cell_type='code')  \n",
    "    _ctx_dict = getattr(globals()['ctx'], templates[ctx_name], None)()\n",
    "    cells = [_fn(source=[f\"from ContextKit.contexts import *\"]),\n",
    "            _fn(source=[f\"{templates[ctx_name]} = {templates[ctx_name]}()\\n\"] + [f\"{k} = {templates[ctx_name]}['{k}']\\n\" for k in _ctx_dict.keys()]),\n",
    "            _fn(source=[f\"%%ai -c\\nPlease read {', '.join([f'$`{k}`' for k in _ctx_dict.keys()])} and give a brief description of what each includes.\"]),]\n",
    "    return cells"
   ]
  },
  {
   "cell_type": "code",
   "execution_count": null,
   "id": "ee7923d9",
   "metadata": {},
   "outputs": [],
   "source": [
    "#| export\n",
    "def create_nb(cells, path):\n",
    "    assert isinstance(cells, list)\n",
    "    nb = {\"cells\": cells, \"metadata\": {}, \"nbformat\": 4, \"nbformat_minor\": 4}\n",
    "    Path(path).write_text(json.dumps(nb, indent=2))"
   ]
  },
  {
   "cell_type": "code",
   "execution_count": null,
   "id": "46b58bd3",
   "metadata": {},
   "outputs": [],
   "source": [
    "#| export\n",
    "def create_magic_template_nb(ctx_name, path):\n",
    "    create_nb(create_magic_template_cells(ctx_name), path=path)"
   ]
  },
  {
   "cell_type": "code",
   "execution_count": null,
   "id": "5b044a0c",
   "metadata": {},
   "outputs": [],
   "source": [
    "#| export\n",
    "templates = {name[4:]: name for name in dir(ctx) if name.startswith('ctx_')}"
   ]
  },
  {
   "cell_type": "code",
   "execution_count": null,
   "id": "54cfe5b6",
   "metadata": {},
   "outputs": [
    {
     "name": "stdout",
     "output_type": "stream",
     "text": [
      "dict_keys(['fasthtml_llms-ctx', 'hypermedia_summary'])\n"
     ]
    }
   ],
   "source": [
    "create_magic_template_nb('fasthtml','../testnb2.ipynb')"
   ]
  },
  {
   "cell_type": "code",
   "execution_count": null,
   "id": "6509ac10",
   "metadata": {},
   "outputs": [],
   "source": [
    "#|export\n",
    "@call_parse\n",
    "def ck(ctx_name: Annotated[str, \"Context name (one of: \" + \", \".join(templates.keys()) + \")\"],\n",
    "       path: Annotated[str, \"Output path for the notebook\"]):\n",
    "    \"\"\"Create a magic template notebook for a chosen context.\"\"\"\n",
    "    if ctx_name not in templates:\n",
    "        print(f\"Error: {ctx_name} is not a valid context name.\")\n",
    "        print(f\"Valid options are: {', '.join(templates.keys())}\")\n",
    "        sys.exit(1)\n",
    "    create_magic_template_nb(ctx_name, path)\n",
    "    print(f\"Notebook created at {path}\")\n",
    "\n",
    "# To make this CLI available when the library is installed, add this to setup.py:"
   ]
  },
  {
   "cell_type": "code",
   "execution_count": null,
   "id": "15c70365",
   "metadata": {},
   "outputs": [],
   "source": []
  }
 ],
 "metadata": {
  "kernelspec": {
   "display_name": "python3",
   "language": "python",
   "name": "python3"
  }
 },
 "nbformat": 4,
 "nbformat_minor": 5
}
