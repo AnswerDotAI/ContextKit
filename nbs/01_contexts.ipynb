{
 "cells": [
  {
   "cell_type": "markdown",
   "metadata": {},
   "source": [
    "# Contexts\n",
    "\n",
    "> Ready to go contexts ready to be imported"
   ]
  },
  {
   "cell_type": "code",
   "execution_count": null,
   "metadata": {},
   "outputs": [],
   "source": [
    "#| default_exp contexts"
   ]
  },
  {
   "cell_type": "code",
   "execution_count": null,
   "metadata": {},
   "outputs": [],
   "source": [
    "#| hide\n",
    "from nbdev.showdoc import *"
   ]
  },
  {
   "cell_type": "code",
   "execution_count": null,
   "metadata": {},
   "outputs": [],
   "source": [
    "#| export\n",
    "from ContextKit.read import *"
   ]
  },
  {
   "cell_type": "code",
   "execution_count": null,
   "metadata": {},
   "outputs": [],
   "source": [
    "def ctx_head(d): return {k:f\"{v[:50]}...\" for k,v in d.items()}"
   ]
  },
  {
   "cell_type": "markdown",
   "metadata": {},
   "source": [
    "## nbclassic"
   ]
  },
  {
   "cell_type": "code",
   "execution_count": null,
   "metadata": {},
   "outputs": [],
   "source": [
    "#| export\n",
    "def nbclassic_server(): \n",
    "    return {'nbclassic_server': read_url('https://nbclassic.readthedocs.io/en/latest/nbclassic.html',sel='.bd-article')}"
   ]
  },
  {
   "cell_type": "code",
   "execution_count": null,
   "metadata": {},
   "outputs": [
    {
     "data": {
      "text/plain": [
       "{'nbclassic_server': 'None\\n\\n...'}"
      ]
     },
     "execution_count": null,
     "metadata": {},
     "output_type": "execute_result"
    }
   ],
   "source": [
    "ctx_head(nbclassic_server())"
   ]
  },
  {
   "cell_type": "markdown",
   "metadata": {},
   "source": [
    "## Docker"
   ]
  },
  {
   "cell_type": "code",
   "execution_count": null,
   "metadata": {},
   "outputs": [],
   "source": [
    "#| export\n",
    "def docker():\n",
    "    ctxs = {'compose_file':'https://docs.docker.com/reference/compose-file/',\n",
    "            'docker_cli':'https://docs.docker.com/reference/cli/docker/',\n",
    "            'docker_compose_cli':'https://docs.docker.com/reference/cli/docker/compose/',\n",
    "            'dockerd':'https://docs.docker.com/reference/cli/dockerd/',\n",
    "            'dockerhub':'https://docs.docker.com/reference/api/hub/latest/'}\n",
    "    return {k: read_url(v, sel='.prose') for k,v in ctxs.items()}"
   ]
  },
  {
   "cell_type": "code",
   "execution_count": null,
   "metadata": {},
   "outputs": [
    {
     "data": {
      "text/plain": [
       "{'compose_file': 'None\\n\\n...',\n",
       " 'docker_cli': 'None\\n\\n...',\n",
       " 'docker_compose_cli': 'None\\n\\n...',\n",
       " 'dockerd': 'None\\n\\n...',\n",
       " 'dockerhub': 'None\\n\\n...'}"
      ]
     },
     "execution_count": null,
     "metadata": {},
     "output_type": "execute_result"
    }
   ],
   "source": [
    "ctx_head(docker())"
   ]
  },
  {
   "cell_type": "markdown",
   "metadata": {},
   "source": [
    "## Sqlite"
   ]
  },
  {
   "cell_type": "code",
   "execution_count": null,
   "metadata": {},
   "outputs": [],
   "source": [
    "#| export\n",
    "def fastlite_sqlutils():\n",
    "    return {\n",
    "        'fastlite_index': read_url('https://answerdotai.github.io/fastlite/index.html.md'),\n",
    "        'fastlite_core': read_url('https://answerdotai.github.io/fastlite/core.html.md'),\n",
    "        'sqlite_utils_docs': read_url('https://sqlite-utils.datasette.io/en/stable/python-api.html',\n",
    "                                      sel='#sqlite-utils-python-library')\n",
    "    }"
   ]
  },
  {
   "cell_type": "code",
   "execution_count": null,
   "metadata": {},
   "outputs": [
    {
     "data": {
      "text/plain": [
       "{'fastlite_index': '# fastlite `fastlite` provides some little quality...',\n",
       " 'fastlite_core': '# Source ## Metadata ``` python from IPython.displ...',\n",
       " 'sqlite_utils_docs': 'None\\n\\n...'}"
      ]
     },
     "execution_count": null,
     "metadata": {},
     "output_type": "execute_result"
    }
   ],
   "source": [
    "ctx_head(fastlite_sqlutils())"
   ]
  },
  {
   "cell_type": "markdown",
   "metadata": {},
   "source": [
    "## fasthtml"
   ]
  },
  {
   "cell_type": "code",
   "execution_count": null,
   "metadata": {},
   "outputs": [],
   "source": [
    "#| export\n",
    "def fasthtml():\n",
    "    return {\n",
    "        'fasthtml_llms-ctx': read_url('https://docs.fastht.ml/llms-ctx.txt'),\n",
    "        'hypermedia_summary': read_gist('https://gist.github.com/jph00/4ad7d35ad79013aded41b5ba535a12a3')\n",
    "    }"
   ]
  },
  {
   "cell_type": "code",
   "execution_count": null,
   "metadata": {},
   "outputs": [
    {
     "data": {
      "text/plain": [
       "{'fasthtml_llms-ctx': 'Things to remember when writing FastHTML apps: \\\\\\\\-...',\n",
       " 'hypermedia_summary': '# Hypermedia Systems: book summary\\n\\nThis is a summ...'}"
      ]
     },
     "execution_count": null,
     "metadata": {},
     "output_type": "execute_result"
    }
   ],
   "source": [
    "ctx_head(fasthtml())"
   ]
  },
  {
   "cell_type": "markdown",
   "metadata": {},
   "source": [
    "## Fastcore"
   ]
  },
  {
   "cell_type": "code",
   "execution_count": null,
   "metadata": {},
   "outputs": [],
   "source": [
    "#| export\n",
    "def fastcore(): \n",
    "    return {'llms-ctx': read_url('https://fastcore.fast.ai/llms-ctx.txt')}"
   ]
  },
  {
   "cell_type": "code",
   "execution_count": null,
   "metadata": {},
   "outputs": [
    {
     "data": {
      "text/plain": [
       "{'llms-ctx': 'fastcore adds to Python features inspired by other...'}"
      ]
     },
     "execution_count": null,
     "metadata": {},
     "output_type": "execute_result"
    }
   ],
   "source": [
    "ctx_head(fastcore())"
   ]
  },
  {
   "cell_type": "markdown",
   "metadata": {},
   "source": [
    "## claudette"
   ]
  },
  {
   "cell_type": "code",
   "execution_count": null,
   "metadata": {},
   "outputs": [],
   "source": [
    "#| export\n",
    "def claudette():\n",
    "    ctxs = {\n",
    "        'async': 'https://claudette.answer.ai/async.html.md',\n",
    "        'core': 'https://claudette.answer.ai/core.html.md',\n",
    "        'toolloop': 'https://claudette.answer.ai/toolloop.html.md'\n",
    "    }\n",
    "    return {k: read_url(url) for k, url in ctxs.items()}"
   ]
  },
  {
   "cell_type": "code",
   "execution_count": null,
   "metadata": {},
   "outputs": [
    {
     "data": {
      "text/plain": [
       "{'async': '# The async version ## Setup ## Async SDK ``` pyth...',\n",
       " 'core': '# Claudette’s source This is the ‘literate’ source...',\n",
       " 'toolloop': \"# Tool loop ``` python import os # os.environ['ANT...\"}"
      ]
     },
     "execution_count": null,
     "metadata": {},
     "output_type": "execute_result"
    }
   ],
   "source": [
    "ctx_head(claudette())"
   ]
  },
  {
   "cell_type": "code",
   "execution_count": null,
   "metadata": {},
   "outputs": [],
   "source": [
    "#| hide\n",
    "import nbdev; nbdev.nbdev_export()"
   ]
  },
  {
   "cell_type": "code",
   "execution_count": null,
   "metadata": {},
   "outputs": [],
   "source": []
  },
  {
   "cell_type": "code",
   "execution_count": null,
   "metadata": {},
   "outputs": [],
   "source": []
  }
 ],
 "metadata": {
  "kernelspec": {
   "display_name": "python3",
   "language": "python",
   "name": "python3"
  }
 },
 "nbformat": 4,
 "nbformat_minor": 4
}
