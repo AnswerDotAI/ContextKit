{
 "cells": [
  {
   "cell_type": "markdown",
   "metadata": {},
   "source": [
    "# Contexts\n",
    "\n",
    "> Ready to go contexts ready to be imported"
   ]
  },
  {
   "cell_type": "code",
   "execution_count": null,
   "metadata": {},
   "outputs": [],
   "source": [
    "#| default_exp contexts"
   ]
  },
  {
   "cell_type": "code",
   "execution_count": null,
   "metadata": {},
   "outputs": [],
   "source": [
    "#| hide\n",
    "from nbdev.showdoc import *"
   ]
  },
  {
   "cell_type": "code",
   "execution_count": null,
   "metadata": {},
   "outputs": [],
   "source": [
    "#| export\n",
    "from ContextKit.read import *\n",
    "from fastcore.all import parallel\n"
   ]
  },
  {
   "cell_type": "code",
   "execution_count": null,
   "metadata": {},
   "outputs": [],
   "source": [
    "def ctx_head(d): return {k:f\"{v[:50]}...\" for k,v in d.items()}"
   ]
  },
  {
   "cell_type": "markdown",
   "metadata": {},
   "source": [
    "## nbclassic"
   ]
  },
  {
   "cell_type": "code",
   "execution_count": null,
   "metadata": {},
   "outputs": [],
   "source": [
    "#| export\n",
    "def ctx_nbclassic_server(): \n",
    "    return {'nbclassic_server': read_url('https://nbclassic.readthedocs.io/en/latest/nbclassic.html',sel='.bd-article')}"
   ]
  },
  {
   "cell_type": "code",
   "execution_count": null,
   "metadata": {},
   "outputs": [
    {
     "data": {
      "text/plain": [
       "{'nbclassic_server': 'Skip to main content\\n\\n__Back to top\\n\\n__ `Ctrl`+`K`...'}"
      ]
     },
     "execution_count": null,
     "metadata": {},
     "output_type": "execute_result"
    }
   ],
   "source": [
    "ctx_head(ctx_nbclassic_server())"
   ]
  },
  {
   "cell_type": "markdown",
   "metadata": {},
   "source": [
    "## Docker"
   ]
  },
  {
   "cell_type": "code",
   "execution_count": null,
   "metadata": {},
   "outputs": [],
   "source": [
    "#| export\n",
    "def ctx_docker():\n",
    "    ctxs = {'compose_file':'https://docs.docker.com/reference/compose-file/',\n",
    "            'docker_cli':'https://docs.docker.com/reference/cli/docker/',\n",
    "            'docker_compose_cli':'https://docs.docker.com/reference/cli/docker/compose/',\n",
    "            'dockerd':'https://docs.docker.com/reference/cli/dockerd/',}\n",
    "    ctxs = {k: read_url(v, sel='.prose') for k,v in ctxs.items()}\n",
    "    \n",
    "    url = 'https://docker-py.readthedocs.io/en/stable/{}.html'\n",
    "    page_names = ['client','configs','containers','images','networks','nodes',\n",
    "                 'plugins','secrets','services','swarm','volumes','api','tls',]\n",
    "    urls = [url.format(p) for p in page_names]\n",
    "    pages = parallel(read_url, urls, sel='.body')    \n",
    "    ctxs = ctxs | ctx_head({f'py_{n}':p for n,p in zip(page_names,pages)})\n",
    "    return ctxs"
   ]
  },
  {
   "cell_type": "code",
   "execution_count": null,
   "metadata": {},
   "outputs": [
    {
     "data": {
      "text/plain": [
       "{'compose_file': '  * Get started\\n  * Guides\\n  * Manuals\\n  * Referen...',\n",
       " 'docker_cli': '  * Get started\\n  * Guides\\n  * Manuals\\n  * Referen...',\n",
       " 'docker_compose_cli': '  * Get started\\n  * Guides\\n  * Manuals\\n  * Referen...',\n",
       " 'dockerd': '  * Get started\\n  * Guides\\n  * Manuals\\n  * Referen...',\n",
       " 'py_client': '# Docker SDK for Python\\n\\nA Python library for the ...',\n",
       " 'py_configs': '# Docker SDK for Python\\n\\nA Python library for the ...',\n",
       " 'py_containers': '# Docker SDK for Python\\n\\nA Python library for the ...',\n",
       " 'py_images': '# Docker SDK for Python\\n\\nA Python library for the ...',\n",
       " 'py_networks': '# Docker SDK for Python\\n\\nA Python library for the ...',\n",
       " 'py_nodes': '# Docker SDK for Python\\n\\nA Python library for the ...',\n",
       " 'py_plugins': '# Docker SDK for Python\\n\\nA Python library for the ...',\n",
       " 'py_secrets': '# Docker SDK for Python\\n\\nA Python library for the ...',\n",
       " 'py_services': '# Docker SDK for Python\\n\\nA Python library for the ...',\n",
       " 'py_swarm': '# Docker SDK for Python\\n\\nA Python library for the ...',\n",
       " 'py_volumes': '# Docker SDK for Python\\n\\nA Python library for the ...',\n",
       " 'py_api': '# Docker SDK for Python\\n\\nA Python library for the ...',\n",
       " 'py_tls': '# Docker SDK for Python\\n\\nA Python library for the ...'}"
      ]
     },
     "execution_count": null,
     "metadata": {},
     "output_type": "execute_result"
    }
   ],
   "source": [
    "ctx_head(ctx_docker())"
   ]
  },
  {
   "cell_type": "markdown",
   "metadata": {},
   "source": [
    "## Sqlite"
   ]
  },
  {
   "cell_type": "code",
   "execution_count": null,
   "metadata": {},
   "outputs": [],
   "source": [
    "#| export\n",
    "def ctx_fastlite_sqlutils():\n",
    "    return {\n",
    "        'fastlite_index': read_url('https://answerdotai.github.io/fastlite/index.html.md'),\n",
    "        'fastlite_core': read_url('https://answerdotai.github.io/fastlite/core.html.md'),\n",
    "        'sqlite_utils_docs': read_url('https://sqlite-utils.datasette.io/en/stable/python-api.html',\n",
    "                                      sel='#sqlite-utils-python-library')\n",
    "    }"
   ]
  },
  {
   "cell_type": "code",
   "execution_count": null,
   "metadata": {},
   "outputs": [
    {
     "data": {
      "text/plain": [
       "{'fastlite_index': '# fastlite  `fastlite` provides some little qualit...',\n",
       " 'fastlite_core': '# Source  ## Metadata ``` python from IPython.disp...',\n",
       " 'sqlite_utils_docs': 'Contents Menu Expand Light mode Dark mode Auto lig...'}"
      ]
     },
     "execution_count": null,
     "metadata": {},
     "output_type": "execute_result"
    }
   ],
   "source": [
    "ctx_head(ctx_fastlite_sqlutils())"
   ]
  },
  {
   "cell_type": "markdown",
   "metadata": {},
   "source": [
    "## fasthtml"
   ]
  },
  {
   "cell_type": "code",
   "execution_count": null,
   "metadata": {},
   "outputs": [],
   "source": [
    "#| export\n",
    "def ctx_fasthtml():\n",
    "    return {\n",
    "        'fasthtml_llms_ctx': read_url('https://docs.fastht.ml/llms-ctx.txt'),\n",
    "        'hypermedia_summary': read_gist('https://gist.github.com/jph00/4ad7d35ad79013aded41b5ba535a12a3')\n",
    "    }"
   ]
  },
  {
   "cell_type": "code",
   "execution_count": null,
   "metadata": {},
   "outputs": [
    {
     "data": {
      "text/plain": [
       "{'fasthtml_llms-ctx': 'Things to remember when writing FastHTML apps: \\\\- ...',\n",
       " 'hypermedia_summary': '# Hypermedia Systems: book summary\\n\\nThis is a summ...'}"
      ]
     },
     "execution_count": null,
     "metadata": {},
     "output_type": "execute_result"
    }
   ],
   "source": [
    "ctx_head(ctx_fasthtml())"
   ]
  },
  {
   "cell_type": "markdown",
   "metadata": {},
   "source": [
    "## Fastcore"
   ]
  },
  {
   "cell_type": "code",
   "execution_count": null,
   "metadata": {},
   "outputs": [],
   "source": [
    "#| export\n",
    "def ctx_fastcore(): \n",
    "    return {'fc_llms_ctx': read_url('https://fastcore.fast.ai/llms-ctx.txt')}"
   ]
  },
  {
   "cell_type": "code",
   "execution_count": null,
   "metadata": {},
   "outputs": [
    {
     "data": {
      "text/plain": [
       "{'llms-ctx': 'fastcore adds to Python features inspired by other...'}"
      ]
     },
     "execution_count": null,
     "metadata": {},
     "output_type": "execute_result"
    }
   ],
   "source": [
    "ctx_head(ctx_fastcore())"
   ]
  },
  {
   "cell_type": "markdown",
   "metadata": {},
   "source": [
    "## claudette"
   ]
  },
  {
   "cell_type": "code",
   "execution_count": null,
   "metadata": {},
   "outputs": [],
   "source": [
    "#| export\n",
    "def ctx_claudette():\n",
    "    ctxs = {\n",
    "        'async_docs': 'https://claudette.answer.ai/async.html.md',\n",
    "        'core_docs': 'https://claudette.answer.ai/core.html.md',\n",
    "        'toolloop_docs': 'https://claudette.answer.ai/toolloop.html.md'\n",
    "    }\n",
    "    return {k: read_url(url) for k, url in ctxs.items()}"
   ]
  },
  {
   "cell_type": "code",
   "execution_count": null,
   "metadata": {},
   "outputs": [
    {
     "data": {
      "text/plain": [
       "{'async': '# The async version  ## Setup ## Async SDK ``` pyt...',\n",
       " 'core': '# Claudette’s source  This is the ‘literate’ sourc...',\n",
       " 'toolloop': \"# Tool loop  ``` python import os # os.environ['AN...\"}"
      ]
     },
     "execution_count": null,
     "metadata": {},
     "output_type": "execute_result"
    }
   ],
   "source": [
    "ctx_head(ctx_claudette())"
   ]
  },
  {
   "cell_type": "code",
   "execution_count": null,
   "metadata": {},
   "outputs": [],
   "source": [
    "#| hide\n",
    "import nbdev; nbdev.nbdev_export()"
   ]
  },
  {
   "cell_type": "code",
   "execution_count": null,
   "metadata": {},
   "outputs": [],
   "source": []
  }
 ],
 "metadata": {
  "kernelspec": {
   "display_name": "python3",
   "language": "python",
   "name": "python3"
  }
 },
 "nbformat": 4,
 "nbformat_minor": 4
}
