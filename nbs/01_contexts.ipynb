{
 "cells": [
  {
   "cell_type": "markdown",
   "metadata": {},
   "source": [
    "# Contexts\n",
    "\n",
    "> Ready to go contexts ready to be imported"
   ]
  },
  {
   "cell_type": "code",
   "execution_count": null,
   "metadata": {},
   "outputs": [],
   "source": [
    "#| default_exp contexts"
   ]
  },
  {
   "cell_type": "code",
   "execution_count": null,
   "metadata": {},
   "outputs": [],
   "source": [
    "#| hide\n",
    "from nbdev.showdoc import *"
   ]
  },
  {
   "cell_type": "code",
   "execution_count": null,
   "metadata": {},
   "outputs": [],
   "source": [
    "#| export\n",
    "from httpx import get\n",
    "from playwrightnb import url2md\n",
    "from functools import partial\n",
    "from toolslm.download import find_docs, read_docs\n",
    "from fastcore.all import *"
   ]
  },
  {
   "cell_type": "code",
   "execution_count": null,
   "metadata": {},
   "outputs": [],
   "source": [
    "#| export\n",
    "def read_gist(s, user): return get(f'https://gist.githubusercontent.com/{user}/{s}').text"
   ]
  },
  {
   "cell_type": "code",
   "execution_count": null,
   "metadata": {},
   "outputs": [],
   "source": [
    "#| export\n",
    "def nbclassic_server(): \n",
    "    return {'nbclassic_server': url2md('https://nbclassic.readthedocs.io/en/latest/nbclassic.html','.bd-article')}"
   ]
  },
  {
   "cell_type": "code",
   "execution_count": null,
   "metadata": {},
   "outputs": [],
   "source": [
    "#| export\n",
    "def minai():\n",
    "    ctxs = {'framework':'f242de7c00ace2db18771f9999a2d2fa/raw/73d6367f74d6678b1d1752332e86f110f5dded57',\n",
    "            'course_nbs': 'a9ac18696ccc8379b7b0a4e0847826cf/raw/77b31753f879e2b9769e1630fad76a4c3936d6da',\n",
    "            'course_summary': '08684d1aa641ee0686d7b620e66de24c/raw/9290a38676def861aa6fdb7917d6793b3dd67ccd'}\n",
    "    _fn = bind(read_gist,user='isaac-flath')\n",
    "    print(\"WARNING: Reading from gists not a dynamic source.\")\n",
    "    return {k:_fn(v) for k,v in ctxs.items()}"
   ]
  },
  {
   "cell_type": "code",
   "execution_count": null,
   "metadata": {},
   "outputs": [],
   "source": [
    "#| export\n",
    "def docker():\n",
    "    ctxs = {'compose_file':'https://docs.docker.com/reference/compose-file/',\n",
    "            'docker_cli':'https://docs.docker.com/reference/cli/docker/',\n",
    "            'docker_compose_cli':'https://docs.docker.com/reference/cli/docker/compose/',\n",
    "            'dockerd':'https://docs.docker.com/reference/cli/dockerd/',\n",
    "            'dockerhub':'https://docs.docker.com/reference/api/hub/latest/'}\n",
    "    return {k: url2md(url, '.prose') for kv in ctxs.items}"
   ]
  },
  {
   "cell_type": "code",
   "execution_count": null,
   "metadata": {},
   "outputs": [],
   "source": [
    "#| export\n",
    "def fastlite_sqlutils():\n",
    "    return {\n",
    "        'fastlite_kw': get('https://raw.githubusercontent.com/AnswerDotAI/fastlite/refs/heads/main/fastlite/kw.py').text,\n",
    "        'fastlite_core': get('https://raw.githubusercontent.com/AnswerDotAI/fastlite/refs/heads/main/fastlite/core.py').text,\n",
    "        'fastlite_docs': read_docs('https://answerdotai.github.io/fastlite/'),\n",
    "        'sqlite_utils_docs': url2md('https://sqlite-utils.datasette.io/en/stable/python-api.html','#sqlite-utils-python-library')\n",
    "    }"
   ]
  },
  {
   "cell_type": "code",
   "execution_count": null,
   "metadata": {},
   "outputs": [],
   "source": [
    "#| export\n",
    "def fasthtml():\n",
    "    return {\n",
    "        'fasthtml_docs': read_docs('https://docs.fastht.ml'),\n",
    "        'hypermedia_summary': read_gist('d5dc25001d70f5ceb20d115f586662d6/raw/80e427ace28dfc8a576617c5903cc2e12496ba4f','isaac-flath')\n",
    "    }"
   ]
  },
  {
   "cell_type": "code",
   "execution_count": null,
   "metadata": {},
   "outputs": [],
   "source": [
    "#| export\n",
    "def fastcore(): \n",
    "    return {'fastcore_docs': read_docs('https://fastcore.fast.ai/')}"
   ]
  },
  {
   "cell_type": "code",
   "execution_count": null,
   "metadata": {},
   "outputs": [],
   "source": [
    "#| export\n",
    "def claudette():\n",
    "    ctxs = {\n",
    "        'async': 'https://claudette.answer.ai/async.html.md',\n",
    "        'core': 'https://claudette.answer.ai/core.html.md',\n",
    "        'toolloop': 'https://claudette.answer.ai/toolloop.html.md'\n",
    "    }\n",
    "    return {k: get(url).text for k, url in ctxs.items()}"
   ]
  },
  {
   "cell_type": "code",
   "execution_count": null,
   "metadata": {},
   "outputs": [],
   "source": [
    "#| hide\n",
    "import nbdev; nbdev.nbdev_export()"
   ]
  },
  {
   "cell_type": "code",
   "execution_count": null,
   "metadata": {},
   "outputs": [],
   "source": []
  },
  {
   "cell_type": "code",
   "execution_count": null,
   "metadata": {},
   "outputs": [],
   "source": []
  }
 ],
 "metadata": {
  "kernelspec": {
   "display_name": "python3",
   "language": "python",
   "name": "python3"
  }
 },
 "nbformat": 4,
 "nbformat_minor": 4
}
