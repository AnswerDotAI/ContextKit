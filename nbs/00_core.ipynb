{
 "cells": [
  {
   "cell_type": "markdown",
   "metadata": {},
   "source": [
    "# core\n",
    "\n",
    "> Fill in a module description here"
   ]
  },
  {
   "cell_type": "code",
   "execution_count": null,
   "metadata": {},
   "outputs": [],
   "source": [
    "#| default_exp core"
   ]
  },
  {
   "cell_type": "code",
   "execution_count": null,
   "metadata": {},
   "outputs": [],
   "source": [
    "#| hide\n",
    "from nbdev.showdoc import *"
   ]
  },
  {
   "cell_type": "code",
   "execution_count": null,
   "metadata": {},
   "outputs": [],
   "source": [
    "#| export\n",
    "from httpx import get\n",
    "from playwrightnb import url2md"
   ]
  },
  {
   "cell_type": "code",
   "execution_count": null,
   "metadata": {},
   "outputs": [],
   "source": [
    "#| export\n",
    "def read_gist(user,s): return get(f'https://gist.githubusercontent.com/{user}/{s}').text"
   ]
  },
  {
   "cell_type": "code",
   "execution_count": null,
   "metadata": {},
   "outputs": [],
   "source": [
    "#| export\n",
    "def nbclassic_server(): return url2md('https://nbclassic.readthedocs.io/en/latest/nbclassic.html','.bd-article')"
   ]
  },
  {
   "cell_type": "code",
   "execution_count": null,
   "metadata": {},
   "outputs": [],
   "source": [
    "#| export\n",
    "def docker(): \n",
    "    urls = {'Dockerfile':'https://docs.docker.com/reference/dockerfile/',\n",
    "            'Composefile':'https://docs.docker.com/reference/compose-file/',\n",
    "            'docker_cli':'https://docs.docker.com/reference/cli/docker/',\n",
    "            'compose_cli':'https://docs.docker.com/reference/cli/docker/compose/',\n",
    "            'daemon':'https://docs.docker.com/reference/cli/dockerd/',\n",
    "            'dockerghub':'https://docs.docker.com/reference/api/hub/latest/'}\n",
    "    return {k:url2md(v,'.prose') for k,v in urls.items()}"
   ]
  },
  {
   "cell_type": "code",
   "execution_count": null,
   "metadata": {},
   "outputs": [],
   "source": [
    "#| export\n",
    "def fasthtml():return get('https://docs.fastht.ml/llms-ctx.txt').text"
   ]
  },
  {
   "cell_type": "code",
   "execution_count": null,
   "metadata": {},
   "outputs": [],
   "source": [
    "#| export\n",
    "def fastcore():\n",
    "    urls = {'llms':'https://fastcore.fast.ai/llms-ctx.txt',\n",
    "            'llms-ctx':'https://fastcore.fast.ai/llms-ctx.txt',\n",
    "            'llms-ctx-full': 'https://fastcore.fast.ai/llms-ctx-full.txt'}\n",
    "    return {k:get(v).text for k,v in urls.items()}"
   ]
  },
  {
   "cell_type": "code",
   "execution_count": null,
   "metadata": {},
   "outputs": [],
   "source": [
    "#| export\n",
    "def claudette():\n",
    "    urls = ['https://claudette.answer.ai/async.html.md',\n",
    "           'https://claudette.answer.ai/core.html.md',\n",
    "           'https://claudette.answer.ai/toolloop.html.md',\n",
    "           'https://claudette.answer.ai/async.html.md']\n",
    "    return {url.split('/')[-1].split('.')[0]: get(url).text for url in urls}        "
   ]
  },
  {
   "cell_type": "code",
   "execution_count": null,
   "metadata": {},
   "outputs": [],
   "source": [
    "#| export\n",
    "def discord():\n",
    "    gists = {\n",
    "        'app': '97e08aa4c97129d942ceaf44ee37238a/raw/de856c4390afc7ea2302c6c89de3bf30756528c9/discord-app-cmd.md',\n",
    "        'oauth': 'd9bf85f7862c2c0108df392244b9e1c4/raw/448e4403569cfbf62b617fce24c1a7c04435e82f/discord-oauth.md',\n",
    "        'user': '2a3c75353356242c6809a29b9e8b68ca/raw/108ad0a93ac1a18b91f685f9b9445952b1bd5935/discord-app-user.md',\n",
    "        'interact': 'a294f7de6834302c6bda6c5308223e9d/raw/53abc463fadd4ef8742be88902c96dd3c0c9522b/discord-interact.md'\n",
    "    }\n",
    "    return {k: read_gist('jph00',v) for k, v in gists.items()}"
   ]
  },
  {
   "cell_type": "code",
   "execution_count": null,
   "metadata": {},
   "outputs": [],
   "source": [
    "#| hide\n",
    "import nbdev; nbdev.nbdev_export()"
   ]
  },
  {
   "cell_type": "code",
   "execution_count": null,
   "metadata": {},
   "outputs": [],
   "source": []
  }
 ],
 "metadata": {
  "kernelspec": {
   "display_name": "python3",
   "language": "python",
   "name": "python3"
  }
 },
 "nbformat": 4,
 "nbformat_minor": 4
}
