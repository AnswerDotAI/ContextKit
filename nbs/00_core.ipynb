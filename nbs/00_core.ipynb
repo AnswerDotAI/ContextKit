{
 "cells": [
  {
   "cell_type": "markdown",
   "metadata": {},
   "source": [
    "# core\n",
    "\n",
    "> Fill in a module description here"
   ]
  },
  {
   "cell_type": "code",
   "execution_count": null,
   "metadata": {},
   "outputs": [],
   "source": [
    "#| default_exp core"
   ]
  },
  {
   "cell_type": "code",
   "execution_count": null,
   "metadata": {},
   "outputs": [],
   "source": [
    "#| hide\n",
    "from nbdev.showdoc import *"
   ]
  },
  {
   "cell_type": "code",
   "execution_count": 33,
   "metadata": {},
   "outputs": [],
   "source": [
    "#| export\n",
    "from httpx import get\n",
    "from playwrightnb import url2md\n",
    "from functools import partial\n",
    "from toolslm.download import find_docs, read_docs\n",
    "from fastcore.all import *"
   ]
  },
  {
   "cell_type": "code",
   "execution_count": 38,
   "metadata": {},
   "outputs": [],
   "source": [
    "#| export\n",
    "def read_gist(s, user): return get(f'https://gist.githubusercontent.com/{user}/{s}').text"
   ]
  },
  {
   "cell_type": "code",
   "execution_count": 39,
   "metadata": {},
   "outputs": [],
   "source": [
    "#| export\n",
    "def nbclassic_server(): return url2md('https://nbclassic.readthedocs.io/en/latest/nbclassic.html','.bd-article')"
   ]
  },
  {
   "cell_type": "code",
   "execution_count": 50,
   "metadata": {},
   "outputs": [],
   "source": [
    "def minai():\n",
    "    framework = 'f242de7c00ace2db18771f9999a2d2fa/raw/73d6367f74d6678b1d1752332e86f110f5dded57'\n",
    "    course_nbs = 'a9ac18696ccc8379b7b0a4e0847826cf/raw/77b31753f879e2b9769e1630fad76a4c3936d6da'\n",
    "    course_summary = '08684d1aa641ee0686d7b620e66de24c/raw/9290a38676def861aa6fdb7917d6793b3dd67ccd'\n",
    "    _fn = bind(read_gist,user='isaac-flath')\n",
    "    return list(map(_fn,(framework,course_nbs,course_summary)))"
   ]
  },
  {
   "cell_type": "code",
   "execution_count": 52,
   "metadata": {},
   "outputs": [],
   "source": [
    "def docker():\n",
    "    urls = [\n",
    "        'https://docs.docker.com/reference/dockerfile/',\n",
    "        'https://docs.docker.com/reference/compose-file/',\n",
    "        'https://docs.docker.com/reference/cli/docker/',\n",
    "        'https://docs.docker.com/reference/cli/docker/compose/',\n",
    "        'https://docs.docker.com/reference/cli/dockerd/',\n",
    "        'https://docs.docker.com/reference/api/hub/latest/']\n",
    "    return tuple(map(lambda url: url2md(url, '.prose'), urls))"
   ]
  },
  {
   "cell_type": "code",
   "execution_count": 61,
   "metadata": {},
   "outputs": [],
   "source": [
    "def fastlite_sqlutils():\n",
    "    fastlite_kw = get('https://raw.githubusercontent.com/AnswerDotAI/fastlite/refs/heads/main/fastlite/kw.py')\n",
    "    fastlite_core = get('https://raw.githubusercontent.com/AnswerDotAI/fastlite/refs/heads/main/fastlite/core.py')\n",
    "    fastlite_docs = read_docs('https://answerdotai.github.io/fastlite/')\n",
    "    sqlite_utils_docs = url2md('https://sqlite-utils.datasette.io/en/stable/python-api.html','#sqlite-utils-python-library')\n",
    "    return fastlite_kw, fastlite_core, fastlite_docs, sqlite_utils_docs"
   ]
  },
  {
   "cell_type": "code",
   "execution_count": 64,
   "metadata": {},
   "outputs": [],
   "source": [
    "#| export\n",
    "def fasthtml():\n",
    "    hypermedia_summary = read_gist('d5dc25001d70f5ceb20d115f586662d6/raw/80e427ace28dfc8a576617c5903cc2e12496ba4f','isaac-flath')\n",
    "    return read_docs('https://docs.fastht.ml'),hypermedia_summary"
   ]
  },
  {
   "cell_type": "code",
   "execution_count": null,
   "metadata": {},
   "outputs": [],
   "source": [
    "#| export\n",
    "def fastcore(): \n",
    "    return read_docs('https://fastcore.fast.ai/'), "
   ]
  },
  {
   "cell_type": "code",
   "execution_count": 56,
   "metadata": {},
   "outputs": [],
   "source": [
    "#| export\n",
    "def claudette():\n",
    "    urls = ['https://claudette.answer.ai/async.html.md',\n",
    "           'https://claudette.answer.ai/core.html.md',\n",
    "           'https://claudette.answer.ai/toolloop.html.md',\n",
    "           'https://claudette.answer.ai/async.html.md']\n",
    "    return [get(url).text for url in urls]"
   ]
  },
  {
   "cell_type": "code",
   "execution_count": 66,
   "metadata": {},
   "outputs": [],
   "source": [
    "#| hide\n",
    "import nbdev; nbdev.nbdev_export()"
   ]
  },
  {
   "cell_type": "code",
   "execution_count": null,
   "metadata": {},
   "outputs": [],
   "source": []
  }
 ],
 "metadata": {
  "kernelspec": {
   "display_name": "Python 3 (ipykernel)",
   "language": "python",
   "name": "python3"
  },
  "language_info": {
   "codemirror_mode": {
    "name": "ipython",
    "version": 3
   },
   "file_extension": ".py",
   "mimetype": "text/x-python",
   "name": "python",
   "nbconvert_exporter": "python",
   "pygments_lexer": "ipython3",
   "version": "3.12.4"
  },
  "toc": {
   "base_numbering": 1,
   "nav_menu": {},
   "number_sections": true,
   "sideBar": true,
   "skip_h1_title": false,
   "title_cell": "Table of Contents",
   "title_sidebar": "Contents",
   "toc_cell": false,
   "toc_position": {},
   "toc_section_display": true,
   "toc_window_display": false
  }
 },
 "nbformat": 4,
 "nbformat_minor": 4
}
