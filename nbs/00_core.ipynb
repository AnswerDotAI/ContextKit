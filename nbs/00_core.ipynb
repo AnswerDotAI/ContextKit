{
 "cells": [
  {
   "cell_type": "markdown",
   "metadata": {},
   "source": [
    "# core\n",
    "\n",
    "> Fill in a module description here"
   ]
  },
  {
   "cell_type": "code",
   "execution_count": null,
   "metadata": {},
   "outputs": [],
   "source": [
    "#| default_exp core"
   ]
  },
  {
   "cell_type": "code",
   "execution_count": null,
   "metadata": {},
   "outputs": [],
   "source": [
    "#| hide\n",
    "from nbdev.showdoc import *"
   ]
  },
  {
   "cell_type": "code",
   "execution_count": null,
   "metadata": {},
   "outputs": [],
   "source": [
    "#| export\n",
    "from httpx import get"
   ]
  },
  {
   "cell_type": "code",
   "execution_count": null,
   "metadata": {},
   "outputs": [],
   "source": [
    "#| export\n",
    "def read_gist(user,s): return get(f'https://gist.githubusercontent.com/{user}/{s}').text"
   ]
  },
  {
   "cell_type": "code",
   "execution_count": null,
   "metadata": {},
   "outputs": [],
   "source": [
    "#| export\n",
    "def nbclassic_server(): return read_gist('Isaac-Flath','7361506a442d895ba1127ef68b0e2e36/raw')"
   ]
  },
  {
   "cell_type": "code",
   "execution_count": null,
   "metadata": {},
   "outputs": [],
   "source": [
    "#| export\n",
    "def fasthtml():return get('https://docs.fastht.ml/llms-ctx.txt').text"
   ]
  },
  {
   "cell_type": "code",
   "execution_count": null,
   "metadata": {},
   "outputs": [],
   "source": [
    "#| export\n",
    "def claudette():\n",
    "    urls = ['https://docs.fastht.ml/index.html.md',\n",
    "           'https://claudette.answer.ai/async.html.md',\n",
    "           'https://claudette.answer.ai/core.html.md',\n",
    "           'https://claudette.answer.ai/toolloop.html.md',\n",
    "           'https://claudette.answer.ai/async.html.md']\n",
    "    return {url.split('/')[-1].split('.')[0]: get(url).text for url in urls}        "
   ]
  },
  {
   "cell_type": "code",
   "execution_count": null,
   "metadata": {},
   "outputs": [],
   "source": [
    "#| export\n",
    "def discord():\n",
    "    gists = {\n",
    "        'app': '97e08aa4c97129d942ceaf44ee37238a/raw/de856c4390afc7ea2302c6c89de3bf30756528c9/discord-app-cmd.md',\n",
    "        'oauth': 'd9bf85f7862c2c0108df392244b9e1c4/raw/448e4403569cfbf62b617fce24c1a7c04435e82f/discord-oauth.md',\n",
    "        'user': '2a3c75353356242c6809a29b9e8b68ca/raw/108ad0a93ac1a18b91f685f9b9445952b1bd5935/discord-app-user.md',\n",
    "        'interact': 'a294f7de6834302c6bda6c5308223e9d/raw/53abc463fadd4ef8742be88902c96dd3c0c9522b/discord-interact.md'\n",
    "    }\n",
    "    return {k: read_gist('jph00',v) for k, v in gists.items()}"
   ]
  },
  {
   "cell_type": "code",
   "execution_count": null,
   "metadata": {},
   "outputs": [],
   "source": [
    "#| hide\n",
    "import nbdev; nbdev.nbdev_export()"
   ]
  },
  {
   "cell_type": "code",
   "execution_count": null,
   "metadata": {},
   "outputs": [],
   "source": []
  }
 ],
 "metadata": {
  "kernelspec": {
   "display_name": "python3",
   "language": "python",
   "name": "python3"
  }
 },
 "nbformat": 4,
 "nbformat_minor": 4
}
