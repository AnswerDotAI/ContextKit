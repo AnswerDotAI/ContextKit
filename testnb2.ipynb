{
 "cells": [
  {
   "cell_type": "code",
   "execution_count": 1,
   "metadata": {},
   "outputs": [],
   "source": [
    "from ContextKit.core import fasthtml\n",
    "llms_ctx, hypermedia_summary  = fasthtml()"
   ]
  },
  {
   "cell_type": "code",
   "execution_count": 2,
   "metadata": {},
   "outputs": [],
   "source": [
    "%%ai -c\n",
    "\n",
    "Read and give very brief explanation of what is in $`llms_ctx` and $`hypermedia_summary`"
   ]
  },
  {
   "cell_type": "markdown",
   "metadata": {},
   "source": [
    "`llms_ctx` contains a summary of the FastHTML project, which is a Python library that combines Starlette, Uvicorn, HTMX, and fastcore's `FT` \"FastTags\" to create server-rendered hypermedia applications. It includes key points about FastHTML's features, usage, and design principles.\n",
    "\n",
    "`hypermedia_summary` is a detailed summary of the book \"Hypermedia Systems\" by Carson Gross, Adam Stepinski, and Deniz Akşimşek. It covers various aspects of hypermedia-driven web applications, including the history of hypermedia, components of hypermedia systems, RESTful architecture, and practical implementation using tools like htmx and _hyperscript."
   ]
  },
  {
   "cell_type": "code",
   "execution_count": null,
   "metadata": {},
   "outputs": [],
   "source": []
  }
 ],
 "metadata": {
  "kernelspec": {
   "display_name": "Python 3 (ipykernel)",
   "language": "python",
   "name": "python3"
  },
  "language_info": {
   "codemirror_mode": {
    "name": "ipython",
    "version": 3
   },
   "file_extension": ".py",
   "mimetype": "text/x-python",
   "name": "python",
   "nbconvert_exporter": "python",
   "pygments_lexer": "ipython3",
   "version": "3.12.4"
  },
  "toc": {
   "base_numbering": 1,
   "nav_menu": {},
   "number_sections": true,
   "sideBar": true,
   "skip_h1_title": false,
   "title_cell": "Table of Contents",
   "title_sidebar": "Contents",
   "toc_cell": false,
   "toc_position": {},
   "toc_section_display": true,
   "toc_window_display": false
  }
 },
 "nbformat": 4,
 "nbformat_minor": 4
}
